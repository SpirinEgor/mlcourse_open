{
 "cells": [
  {
   "cell_type": "code",
   "execution_count": 1,
   "metadata": {},
   "outputs": [],
   "source": [
    "import warnings\n",
    "warnings.filterwarnings('ignore')\n",
    "%matplotlib inline\n",
    "from matplotlib import pyplot as plt\n",
    "plt.style.use('ggplot')\n",
    "import seaborn as sns\n",
    "import os\n",
    "import numpy as np\n",
    "import pandas as pd\n",
    "from tqdm import tqdm_notebook\n",
    "import pickle as pkl\n",
    "from collections import defaultdict"
   ]
  },
  {
   "cell_type": "code",
   "execution_count": 2,
   "metadata": {},
   "outputs": [],
   "source": [
    "PATH_TO_DATA = ('./data')\n",
    "train_df = pd.read_csv(os.path.join(PATH_TO_DATA, 'train_sessions.csv'), index_col='session_id')\n",
    "test_df = pd.read_csv(os.path.join(PATH_TO_DATA, 'test_sessions.csv'), index_col='session_id')"
   ]
  },
  {
   "cell_type": "code",
   "execution_count": 3,
   "metadata": {},
   "outputs": [],
   "source": [
    "site_dict = pkl.load(open('./data/site_dic.pkl', 'rb'))\n",
    "site_dict_inv = defaultdict(str, [(v, k) for (k, v) in site_dict.items()])"
   ]
  },
  {
   "cell_type": "code",
   "execution_count": 4,
   "metadata": {},
   "outputs": [],
   "source": [
    "train_df.sort_values(by='time1', inplace=True)"
   ]
  },
  {
   "cell_type": "code",
   "execution_count": 5,
   "metadata": {},
   "outputs": [],
   "source": [
    "times = ['time%s' % i for i in np.arange(1, 11)]\n",
    "sites = ['site%s' % i for i in np.arange(1, 11)]"
   ]
  },
  {
   "cell_type": "code",
   "execution_count": 31,
   "metadata": {},
   "outputs": [
    {
     "data": {
      "text/plain": [
       "((2297, 24), (251264, 24))"
      ]
     },
     "execution_count": 31,
     "metadata": {},
     "output_type": "execute_result"
    }
   ],
   "source": [
    "alice_df = train_df[train_df['target'] == 1]\n",
    "not_alice_df = train_df[train_df['target'] == 0]\n",
    "alice_df.shape, not_alice_df.shape"
   ]
  },
  {
   "cell_type": "code",
   "execution_count": 19,
   "metadata": {},
   "outputs": [],
   "source": [
    "alice_df[times] = alice_df[times].fillna(0).apply(pd.to_datetime)\n",
    "alice_df[sites] = alice_df[sites].fillna(0).astype('int')\n",
    "\n",
    "not_alice_df[times] = not_alice_df[times].fillna(0).apply(pd.to_datetime)\n",
    "not_alice_df[sites] = not_alice_df[sites].fillna(0).astype('int')\n",
    "\n",
    "train_df[times] = train_df[times].fillna(0).apply(pd.to_datetime)\n",
    "train_df[sites] = train_df[sites].fillna(0).astype('int')"
   ]
  },
  {
   "cell_type": "code",
   "execution_count": 22,
   "metadata": {
    "scrolled": true
   },
   "outputs": [
    {
     "data": {
      "text/plain": [
       "<matplotlib.axes._subplots.AxesSubplot at 0x7f7cb1fd44e0>"
      ]
     },
     "execution_count": 22,
     "metadata": {},
     "output_type": "execute_result"
    },
    {
     "data": {
      "image/png": "[encoded data removed]",
      "text/plain": [
       "<Figure size 432x288 with 1 Axes>"
      ]
     },
     "metadata": {},
     "output_type": "display_data"
    }
   ],
   "source": [
    "alice_df['start_hour'] = alice_df['time1'].apply(lambda x: x.hour)\n",
    "not_alice_df['start_hour'] = not_alice_df['time1'].apply(lambda x: x.hour)\n",
    "train_df['start_hour'] = train_df['time1'].apply(lambda x: x.hour)\n",
    "sns.countplot(x='start_hour', data=train_df, hue='target')"
   ]
  },
  {
   "cell_type": "code",
   "execution_count": 32,
   "metadata": {},
   "outputs": [
    {
     "data": {
      "text/plain": [
       "<matplotlib.axes._subplots.AxesSubplot at 0x7f7cb5c17198>"
      ]
     },
     "execution_count": 32,
     "metadata": {},
     "output_type": "execute_result"
    },
    {
     "data": {
      "image/png": "[encoded data removed]",
      "text/plain": [
       "<Figure size 432x288 with 1 Axes>"
      ]
     },
     "metadata": {},
     "output_type": "display_data"
    }
   ],
   "source": [
    "train_df['year'] = train_df['time1'].apply(lambda x: x.year - 2013)\n",
    "sns.countplot(x='year', data=train_df, hue='target')"
   ]
  },
  {
   "cell_type": "code",
   "execution_count": 26,
   "metadata": {
    "scrolled": true
   },
   "outputs": [
    {
     "data": {
      "text/plain": [
       "<matplotlib.axes._subplots.AxesSubplot at 0x7f7cb9ad5e80>"
      ]
     },
     "execution_count": 26,
     "metadata": {},
     "output_type": "execute_result"
    },
    {
     "data": {
      "image/png": "[encoded data removed]",
      "text/plain": [
       "<Figure size 432x288 with 1 Axes>"
      ]
     },
     "metadata": {},
     "output_type": "display_data"
    }
   ],
   "source": [
    "train_df['weekday'] = train_df['time1'].apply(lambda x: x.weekday())\n",
    "sns.countplot(x='weekday', data=train_df, hue='target')"
   ]
  },
  {
   "cell_type": "code",
   "execution_count": 58,
   "metadata": {},
   "outputs": [
    {
     "data": {
      "application/vnd.jupyter.widget-view+json": {
       "model_id": "e24a7fdd4b8c48da917b998ff7f97ec8",
       "version_major": 2,
       "version_minor": 0
      },
      "text/html": [
       "<p>Failed to display Jupyter Widget of type <code>HBox</code>.</p>\n",
       "<p>\n",
       "  If you're reading this message in the Jupyter Notebook or JupyterLab Notebook, it may mean\n",
       "  that the widgets JavaScript is still loading. If this message persists, it\n",
       "  likely means that the widgets JavaScript library is either not installed or\n",
       "  not enabled. See the <a href=\"https://ipywidgets.readthedocs.io/en/stable/user_install.html\">Jupyter\n",
       "  Widgets Documentation</a> for setup instructions.\n",
       "</p>\n",
       "<p>\n",
       "  If you're reading this message in another frontend (for example, a static\n",
       "  rendering on GitHub or <a href=\"https://nbviewer.jupyter.org/\">NBViewer</a>),\n",
       "  it may mean that your frontend doesn't currently support widgets.\n",
       "</p>\n"
      ],
      "text/plain": [
       "HBox(children=(IntProgress(value=0, max=2297), HTML(value='')))"
      ]
     },
     "metadata": {},
     "output_type": "display_data"
    },
    {
     "name": "stdout",
     "output_type": "stream",
     "text": [
      "\n"
     ]
    },
    {
     "data": {
      "text/plain": [
       "array([[<matplotlib.axes._subplots.AxesSubplot object at 0x7f2667e5b710>]],\n",
       "      dtype=object)"
      ]
     },
     "execution_count": 58,
     "metadata": {},
     "output_type": "execute_result"
    },
    {
     "data": {
      "image/png": "[encoded data removed]",
      "text/plain": [
       "<Figure size 432x288 with 1 Axes>"
      ]
     },
     "metadata": {},
     "output_type": "display_data"
    }
   ],
   "source": [
    "alice_df['unique_sites'] = [np.unique(row[row != 0]).shape[0] for row in \n",
    "                     tqdm_notebook(alice_df[['site%s' % i for i in np.arange(1, 11)]].values)]\n",
    "alice_df.hist(column='unique_sites')"
   ]
  },
  {
   "cell_type": "code",
   "execution_count": 33,
   "metadata": {},
   "outputs": [
    {
     "data": {
      "application/vnd.jupyter.widget-view+json": {
       "model_id": "172b1690d045404189aca6e56b582f8b",
       "version_major": 2,
       "version_minor": 0
      },
      "text/html": [
       "<p>Failed to display Jupyter Widget of type <code>HBox</code>.</p>\n",
       "<p>\n",
       "  If you're reading this message in the Jupyter Notebook or JupyterLab Notebook, it may mean\n",
       "  that the widgets JavaScript is still loading. If this message persists, it\n",
       "  likely means that the widgets JavaScript library is either not installed or\n",
       "  not enabled. See the <a href=\"https://ipywidgets.readthedocs.io/en/stable/user_install.html\">Jupyter\n",
       "  Widgets Documentation</a> for setup instructions.\n",
       "</p>\n",
       "<p>\n",
       "  If you're reading this message in another frontend (for example, a static\n",
       "  rendering on GitHub or <a href=\"https://nbviewer.jupyter.org/\">NBViewer</a>),\n",
       "  it may mean that your frontend doesn't currently support widgets.\n",
       "</p>\n"
      ],
      "text/plain": [
       "HBox(children=(IntProgress(value=0, max=2297), HTML(value='')))"
      ]
     },
     "metadata": {},
     "output_type": "display_data"
    },
    {
     "name": "stdout",
     "output_type": "stream",
     "text": [
      "\n"
     ]
    },
    {
     "data": {
      "text/plain": [
       "array([[<matplotlib.axes._subplots.AxesSubplot object at 0x7f7cb5c1f2b0>]],\n",
       "      dtype=object)"
      ]
     },
     "execution_count": 33,
     "metadata": {},
     "output_type": "execute_result"
    },
    {
     "data": {
      "image/png": "[encoded data removed]",
      "text/plain": [
       "<Figure size 432x288 with 1 Axes>"
      ]
     },
     "metadata": {},
     "output_type": "display_data"
    }
   ],
   "source": [
    "alice_df['visited'] = [row[row != 0].shape[0] for row in \n",
    "                     tqdm_notebook(alice_df[['site%s' % i for i in np.arange(1, 11)]].values)]\n",
    "alice_df.hist(column='visited')"
   ]
  },
  {
   "cell_type": "code",
   "execution_count": 28,
   "metadata": {},
   "outputs": [
    {
     "data": {
      "application/vnd.jupyter.widget-view+json": {
       "model_id": "28252a00604d4894bda834fa672636f6",
       "version_major": 2,
       "version_minor": 0
      },
      "text/html": [
       "<p>Failed to display Jupyter Widget of type <code>HBox</code>.</p>\n",
       "<p>\n",
       "  If you're reading this message in the Jupyter Notebook or JupyterLab Notebook, it may mean\n",
       "  that the widgets JavaScript is still loading. If this message persists, it\n",
       "  likely means that the widgets JavaScript library is either not installed or\n",
       "  not enabled. See the <a href=\"https://ipywidgets.readthedocs.io/en/stable/user_install.html\">Jupyter\n",
       "  Widgets Documentation</a> for setup instructions.\n",
       "</p>\n",
       "<p>\n",
       "  If you're reading this message in another frontend (for example, a static\n",
       "  rendering on GitHub or <a href=\"https://nbviewer.jupyter.org/\">NBViewer</a>),\n",
       "  it may mean that your frontend doesn't currently support widgets.\n",
       "</p>\n"
      ],
      "text/plain": [
       "HBox(children=(IntProgress(value=0, max=2297), HTML(value='')))"
      ]
     },
     "metadata": {},
     "output_type": "display_data"
    },
    {
     "name": "stdout",
     "output_type": "stream",
     "text": [
      "\n"
     ]
    }
   ],
   "source": [
    "all_sites = defaultdict(int)\n",
    "for row in tqdm_notebook(alice_df[sites].values):\n",
    "    for site in row:\n",
    "        all_sites[site] += 1\n",
    "\n",
    "all_sites = sorted([(k, v) for (k, v) in all_sites.items()], key=lambda x: x[1], reverse=True)"
   ]
  },
  {
   "cell_type": "code",
   "execution_count": 34,
   "metadata": {},
   "outputs": [
    {
     "name": "stdout",
     "output_type": "stream",
     "text": [
      "227\n"
     ]
    }
   ],
   "source": [
    "top20sites = [i[0] for i in all_sites if i[1] > 10]\n",
    "print(len(top20sites))"
   ]
  },
  {
   "cell_type": "code",
   "execution_count": 60,
   "metadata": {},
   "outputs": [
    {
     "data": {
      "text/plain": [
       "array([[<matplotlib.axes._subplots.AxesSubplot object at 0x7f26682df2b0>]],\n",
       "      dtype=object)"
      ]
     },
     "execution_count": 60,
     "metadata": {},
     "output_type": "execute_result"
    },
    {
     "data": {
      "image/png": "[encoded data removed]",
      "text/plain": [
       "<Figure size 432x288 with 1 Axes>"
      ]
     },
     "metadata": {},
     "output_type": "display_data"
    }
   ],
   "source": [
    "alice_df['weekday'] = alice_df['time1'].apply(lambda x: x.weekday())\n",
    "alice_df.hist(column='weekday')"
   ]
  },
  {
   "cell_type": "code",
   "execution_count": 29,
   "metadata": {},
   "outputs": [
    {
     "data": {
      "text/html": [
       "<div>\n",
       "<style scoped>\n",
       "    .dataframe tbody tr th:only-of-type {\n",
       "        vertical-align: middle;\n",
       "    }\n",
       "\n",
       "    .dataframe tbody tr th {\n",
       "        vertical-align: top;\n",
       "    }\n",
       "\n",
       "    .dataframe thead th {\n",
       "        text-align: right;\n",
       "    }\n",
       "</style>\n",
       "<table border=\"1\" class=\"dataframe\">\n",
       "  <thead>\n",
       "    <tr style=\"text-align: right;\">\n",
       "      <th></th>\n",
       "      <th>site1</th>\n",
       "      <th>time1</th>\n",
       "      <th>site2</th>\n",
       "      <th>time2</th>\n",
       "      <th>site3</th>\n",
       "      <th>time3</th>\n",
       "      <th>site4</th>\n",
       "      <th>time4</th>\n",
       "      <th>site5</th>\n",
       "      <th>time5</th>\n",
       "      <th>...</th>\n",
       "      <th>time7</th>\n",
       "      <th>site8</th>\n",
       "      <th>time8</th>\n",
       "      <th>site9</th>\n",
       "      <th>time9</th>\n",
       "      <th>site10</th>\n",
       "      <th>time10</th>\n",
       "      <th>target</th>\n",
       "      <th>start_hour</th>\n",
       "      <th>unique_sites</th>\n",
       "    </tr>\n",
       "    <tr>\n",
       "      <th>session_id</th>\n",
       "      <th></th>\n",
       "      <th></th>\n",
       "      <th></th>\n",
       "      <th></th>\n",
       "      <th></th>\n",
       "      <th></th>\n",
       "      <th></th>\n",
       "      <th></th>\n",
       "      <th></th>\n",
       "      <th></th>\n",
       "      <th></th>\n",
       "      <th></th>\n",
       "      <th></th>\n",
       "      <th></th>\n",
       "      <th></th>\n",
       "      <th></th>\n",
       "      <th></th>\n",
       "      <th></th>\n",
       "      <th></th>\n",
       "      <th></th>\n",
       "      <th></th>\n",
       "    </tr>\n",
       "  </thead>\n",
       "  <tbody>\n",
       "    <tr>\n",
       "      <th>251175</th>\n",
       "      <td>270</td>\n",
       "      <td>2013-02-12 16:25:10</td>\n",
       "      <td>270</td>\n",
       "      <td>2013-02-12 16:25:11</td>\n",
       "      <td>270</td>\n",
       "      <td>2013-02-12 16:32:10</td>\n",
       "      <td>21</td>\n",
       "      <td>2013-02-12 16:32:11</td>\n",
       "      <td>21</td>\n",
       "      <td>2013-02-12 16:32:24</td>\n",
       "      <td>...</td>\n",
       "      <td>2013-02-12 16:32:25</td>\n",
       "      <td>7832</td>\n",
       "      <td>2013-02-12 16:32:26</td>\n",
       "      <td>30</td>\n",
       "      <td>2013-02-12 16:32:27</td>\n",
       "      <td>7832</td>\n",
       "      <td>2013-02-12 16:32:27</td>\n",
       "      <td>1</td>\n",
       "      <td>16</td>\n",
       "      <td>4</td>\n",
       "    </tr>\n",
       "    <tr>\n",
       "      <th>196388</th>\n",
       "      <td>29</td>\n",
       "      <td>2013-02-12 16:32:27</td>\n",
       "      <td>7832</td>\n",
       "      <td>2013-02-12 16:32:28</td>\n",
       "      <td>37</td>\n",
       "      <td>2013-02-12 16:32:29</td>\n",
       "      <td>7832</td>\n",
       "      <td>2013-02-12 16:32:34</td>\n",
       "      <td>7832</td>\n",
       "      <td>2013-02-12 16:32:35</td>\n",
       "      <td>...</td>\n",
       "      <td>2013-02-12 16:32:42</td>\n",
       "      <td>29</td>\n",
       "      <td>2013-02-12 16:32:42</td>\n",
       "      <td>7832</td>\n",
       "      <td>2013-02-12 16:32:51</td>\n",
       "      <td>7832</td>\n",
       "      <td>2013-02-12 16:32:53</td>\n",
       "      <td>1</td>\n",
       "      <td>16</td>\n",
       "      <td>3</td>\n",
       "    </tr>\n",
       "    <tr>\n",
       "      <th>172448</th>\n",
       "      <td>29</td>\n",
       "      <td>2013-02-12 16:32:53</td>\n",
       "      <td>7832</td>\n",
       "      <td>2013-02-12 16:33:11</td>\n",
       "      <td>7832</td>\n",
       "      <td>2013-02-12 16:33:12</td>\n",
       "      <td>29</td>\n",
       "      <td>2013-02-12 16:33:13</td>\n",
       "      <td>37</td>\n",
       "      <td>2013-02-12 16:33:15</td>\n",
       "      <td>...</td>\n",
       "      <td>2013-02-12 16:33:24</td>\n",
       "      <td>7832</td>\n",
       "      <td>2013-02-12 16:33:33</td>\n",
       "      <td>29</td>\n",
       "      <td>2013-02-12 16:33:34</td>\n",
       "      <td>270</td>\n",
       "      <td>2013-02-12 16:33:46</td>\n",
       "      <td>1</td>\n",
       "      <td>16</td>\n",
       "      <td>4</td>\n",
       "    </tr>\n",
       "    <tr>\n",
       "      <th>70129</th>\n",
       "      <td>167</td>\n",
       "      <td>2013-02-12 16:33:50</td>\n",
       "      <td>167</td>\n",
       "      <td>2013-02-12 16:33:51</td>\n",
       "      <td>1515</td>\n",
       "      <td>2013-02-12 16:33:52</td>\n",
       "      <td>167</td>\n",
       "      <td>2013-02-12 16:33:52</td>\n",
       "      <td>37</td>\n",
       "      <td>2013-02-12 16:33:52</td>\n",
       "      <td>...</td>\n",
       "      <td>2013-02-12 16:33:52</td>\n",
       "      <td>1515</td>\n",
       "      <td>2013-02-12 16:33:53</td>\n",
       "      <td>855</td>\n",
       "      <td>2013-02-12 16:33:53</td>\n",
       "      <td>1514</td>\n",
       "      <td>2013-02-12 16:33:53</td>\n",
       "      <td>1</td>\n",
       "      <td>16</td>\n",
       "      <td>5</td>\n",
       "    </tr>\n",
       "    <tr>\n",
       "      <th>206254</th>\n",
       "      <td>1520</td>\n",
       "      <td>2013-02-12 16:33:55</td>\n",
       "      <td>1522</td>\n",
       "      <td>2013-02-12 16:33:56</td>\n",
       "      <td>1522</td>\n",
       "      <td>2013-02-12 16:34:01</td>\n",
       "      <td>1515</td>\n",
       "      <td>2013-02-12 16:34:12</td>\n",
       "      <td>1515</td>\n",
       "      <td>2013-02-12 16:34:13</td>\n",
       "      <td>...</td>\n",
       "      <td>2013-02-12 16:34:24</td>\n",
       "      <td>1515</td>\n",
       "      <td>2013-02-12 16:34:24</td>\n",
       "      <td>1520</td>\n",
       "      <td>2013-02-12 16:34:25</td>\n",
       "      <td>1521</td>\n",
       "      <td>2013-02-12 16:34:25</td>\n",
       "      <td>1</td>\n",
       "      <td>16</td>\n",
       "      <td>6</td>\n",
       "    </tr>\n",
       "  </tbody>\n",
       "</table>\n",
       "<p>5 rows × 23 columns</p>\n",
       "</div>"
      ],
      "text/plain": [
       "            site1               time1  site2               time2  site3  \\\n",
       "session_id                                                                \n",
       "251175        270 2013-02-12 16:25:10    270 2013-02-12 16:25:11    270   \n",
       "196388         29 2013-02-12 16:32:27   7832 2013-02-12 16:32:28     37   \n",
       "172448         29 2013-02-12 16:32:53   7832 2013-02-12 16:33:11   7832   \n",
       "70129         167 2013-02-12 16:33:50    167 2013-02-12 16:33:51   1515   \n",
       "206254       1520 2013-02-12 16:33:55   1522 2013-02-12 16:33:56   1522   \n",
       "\n",
       "                         time3  site4               time4  site5  \\\n",
       "session_id                                                         \n",
       "251175     2013-02-12 16:32:10     21 2013-02-12 16:32:11     21   \n",
       "196388     2013-02-12 16:32:29   7832 2013-02-12 16:32:34   7832   \n",
       "172448     2013-02-12 16:33:12     29 2013-02-12 16:33:13     37   \n",
       "70129      2013-02-12 16:33:52    167 2013-02-12 16:33:52     37   \n",
       "206254     2013-02-12 16:34:01   1515 2013-02-12 16:34:12   1515   \n",
       "\n",
       "                         time5     ...                    time7 site8  \\\n",
       "session_id                         ...                                  \n",
       "251175     2013-02-12 16:32:24     ...      2013-02-12 16:32:25  7832   \n",
       "196388     2013-02-12 16:32:35     ...      2013-02-12 16:32:42    29   \n",
       "172448     2013-02-12 16:33:15     ...      2013-02-12 16:33:24  7832   \n",
       "70129      2013-02-12 16:33:52     ...      2013-02-12 16:33:52  1515   \n",
       "206254     2013-02-12 16:34:13     ...      2013-02-12 16:34:24  1515   \n",
       "\n",
       "                         time8 site9               time9 site10  \\\n",
       "session_id                                                        \n",
       "251175     2013-02-12 16:32:26    30 2013-02-12 16:32:27   7832   \n",
       "196388     2013-02-12 16:32:42  7832 2013-02-12 16:32:51   7832   \n",
       "172448     2013-02-12 16:33:33    29 2013-02-12 16:33:34    270   \n",
       "70129      2013-02-12 16:33:53   855 2013-02-12 16:33:53   1514   \n",
       "206254     2013-02-12 16:34:24  1520 2013-02-12 16:34:25   1521   \n",
       "\n",
       "                        time10 target  start_hour unique_sites  \n",
       "session_id                                                      \n",
       "251175     2013-02-12 16:32:27      1          16            4  \n",
       "196388     2013-02-12 16:32:53      1          16            3  \n",
       "172448     2013-02-12 16:33:46      1          16            4  \n",
       "70129      2013-02-12 16:33:53      1          16            5  \n",
       "206254     2013-02-12 16:34:25      1          16            6  \n",
       "\n",
       "[5 rows x 23 columns]"
      ]
     },
     "execution_count": 29,
     "metadata": {},
     "output_type": "execute_result"
    }
   ],
   "source": [
    "alice_df.head()"
   ]
  }
 ],
 "metadata": {
  "kernelspec": {
   "display_name": "Python 3",
   "language": "python",
   "name": "python3"
  },
  "language_info": {
   "codemirror_mode": {
    "name": "ipython",
    "version": 3
   },
   "file_extension": ".py",
   "mimetype": "text/x-python",
   "name": "python",
   "nbconvert_exporter": "python",
   "pygments_lexer": "ipython3",
   "version": "3.6.3"
  }
 },
 "nbformat": 4,
 "nbformat_minor": 2
}
