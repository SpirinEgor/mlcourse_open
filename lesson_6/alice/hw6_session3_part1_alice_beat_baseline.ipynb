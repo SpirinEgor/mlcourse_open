{
 "cells": [
  {
   "cell_type": "markdown",
   "metadata": {},
   "source": [
    "<center>\n",
    "<img src=\"../../ods_stickers.jpg\">\n",
    "## Open Machine Learning Course\n",
    "<center>\n",
    "Author: Yury Kashnitsky, Data Scientist at Mail.Ru Group\n",
    "\n",
    "This material is subject to the terms and conditions of the license [Creative Commons CC BY-NC-SA 4.0](https://creativecommons.org/licenses/by-nc-sa/4.0/). Free use is permitted for any non-comercial purpose with an obligatory indication of the names of the authors and of the source."
   ]
  },
  {
   "cell_type": "markdown",
   "metadata": {},
   "source": [
    "## <center>Assignment #6. Part 1\n",
    "### <center> Beating benchmarks in \"Catch Me If You Can: Intruder Detection through Webpage Session Tracking\"\n",
    "    \n",
    "[Competition](https://www.kaggle.com/c/catch-me-if-you-can-intruder-detection-through-webpage-session-tracking2). The task is to beat \"Assignment 6 baseline\"."
   ]
  },
  {
   "cell_type": "code",
   "execution_count": 1,
   "metadata": {},
   "outputs": [],
   "source": [
    "import warnings\n",
    "warnings.filterwarnings('ignore')\n",
    "%matplotlib inline\n",
    "from matplotlib import pyplot as plt\n",
    "plt.style.use('ggplot')\n",
    "import seaborn as sns\n",
    "import os\n",
    "import numpy as np\n",
    "import pandas as pd\n",
    "from scipy.sparse import csr_matrix, hstack\n",
    "from sklearn.preprocessing import StandardScaler, OneHotEncoder, MinMaxScaler\n",
    "from sklearn.model_selection import StratifiedKFold, cross_val_score, GridSearchCV, train_test_split\n",
    "from sklearn.metrics import roc_auc_score\n",
    "from sklearn.linear_model import LogisticRegression, LogisticRegressionCV\n",
    "from sklearn.feature_extraction.text import TfidfVectorizer, CountVectorizer\n",
    "from tqdm import tqdm_notebook\n",
    "import pickle as pkl\n",
    "from collections import defaultdict\n",
    "import xgboost as xgb"
   ]
  },
  {
   "cell_type": "markdown",
   "metadata": {},
   "source": [
    "Reading original data"
   ]
  },
  {
   "cell_type": "code",
   "execution_count": 2,
   "metadata": {},
   "outputs": [],
   "source": [
    "PATH_TO_DATA = ('./data')\n",
    "train_df = pd.read_csv(os.path.join(PATH_TO_DATA, 'train_sessions.csv'), index_col='session_id')\n",
    "test_df = pd.read_csv(os.path.join(PATH_TO_DATA, 'test_sessions.csv'), index_col='session_id')"
   ]
  },
  {
   "cell_type": "code",
   "execution_count": 3,
   "metadata": {},
   "outputs": [],
   "source": [
    "site_dict = pkl.load(open('./data/site_dic.pkl', 'rb'))\n",
    "site_dict_inv = defaultdict(str, [(v, k) for (k, v) in site_dict.items()])"
   ]
  },
  {
   "cell_type": "code",
   "execution_count": 4,
   "metadata": {},
   "outputs": [],
   "source": [
    "train_df.sort_values(by='time1', inplace=True)"
   ]
  },
  {
   "cell_type": "code",
   "execution_count": 5,
   "metadata": {},
   "outputs": [
    {
     "data": {
      "text/plain": [
       "((253561, 21), (82797, 20))"
      ]
     },
     "execution_count": 5,
     "metadata": {},
     "output_type": "execute_result"
    }
   ],
   "source": [
    "train_df.shape, test_df.shape"
   ]
  },
  {
   "cell_type": "markdown",
   "metadata": {},
   "source": [
    "Separate target feature "
   ]
  },
  {
   "cell_type": "code",
   "execution_count": 7,
   "metadata": {},
   "outputs": [],
   "source": [
    "y = train_df['target']"
   ]
  },
  {
   "cell_type": "markdown",
   "metadata": {},
   "source": [
    "Build Tf-Idf features based on sites. You can use `ngram_range`=(1, 3) and `max_features`=100000 or more"
   ]
  },
  {
   "cell_type": "code",
   "execution_count": 7,
   "metadata": {},
   "outputs": [],
   "source": [
    "X = train_df.drop('target', axis=1)\n",
    "test = test_df.copy()"
   ]
  },
  {
   "cell_type": "code",
   "execution_count": 8,
   "metadata": {},
   "outputs": [],
   "source": [
    "times = ['time%s' % i for i in np.arange(1, 11)]\n",
    "sites = ['site%s' % i for i in np.arange(1, 11)]"
   ]
  },
  {
   "cell_type": "code",
   "execution_count": 9,
   "metadata": {},
   "outputs": [],
   "source": [
    "X[times] = X[times].fillna(0).apply(pd.to_datetime)\n",
    "test[times] = test[times].fillna(0).apply(pd.to_datetime)"
   ]
  },
  {
   "cell_type": "code",
   "execution_count": 10,
   "metadata": {},
   "outputs": [],
   "source": [
    "X[sites] = X[sites].fillna(0).astype('int')\n",
    "test[sites] = test[sites].fillna(0).astype('int')"
   ]
  },
  {
   "cell_type": "code",
   "execution_count": 11,
   "metadata": {
    "scrolled": true
   },
   "outputs": [
    {
     "data": {
      "application/vnd.jupyter.widget-view+json": {
       "model_id": "af627f6656c4437ba8258826a21d40bc",
       "version_major": 2,
       "version_minor": 0
      },
      "text/html": [
       "<p>Failed to display Jupyter Widget of type <code>HBox</code>.</p>\n",
       "<p>\n",
       "  If you're reading this message in the Jupyter Notebook or JupyterLab Notebook, it may mean\n",
       "  that the widgets JavaScript is still loading. If this message persists, it\n",
       "  likely means that the widgets JavaScript library is either not installed or\n",
       "  not enabled. See the <a href=\"https://ipywidgets.readthedocs.io/en/stable/user_install.html\">Jupyter\n",
       "  Widgets Documentation</a> for setup instructions.\n",
       "</p>\n",
       "<p>\n",
       "  If you're reading this message in another frontend (for example, a static\n",
       "  rendering on GitHub or <a href=\"https://nbviewer.jupyter.org/\">NBViewer</a>),\n",
       "  it may mean that your frontend doesn't currently support widgets.\n",
       "</p>\n"
      ],
      "text/plain": [
       "HBox(children=(IntProgress(value=0, max=10), HTML(value='')))"
      ]
     },
     "metadata": {},
     "output_type": "display_data"
    },
    {
     "name": "stdout",
     "output_type": "stream",
     "text": [
      "\n"
     ]
    }
   ],
   "source": [
    "for i in tqdm_notebook(np.arange(1, 11)):\n",
    "    X['site_name%s' % i] = X['site%s' % i].apply(lambda i: ' '.join(site_dict_inv[i].split('.')))\n",
    "    test['site_name%s' % i] = test['site%s' % i].apply(lambda i: ' '.join(site_dict_inv[i].split('.')))"
   ]
  },
  {
   "cell_type": "code",
   "execution_count": 12,
   "metadata": {},
   "outputs": [
    {
     "data": {
      "text/html": [
       "<div>\n",
       "<style scoped>\n",
       "    .dataframe tbody tr th:only-of-type {\n",
       "        vertical-align: middle;\n",
       "    }\n",
       "\n",
       "    .dataframe tbody tr th {\n",
       "        vertical-align: top;\n",
       "    }\n",
       "\n",
       "    .dataframe thead th {\n",
       "        text-align: right;\n",
       "    }\n",
       "</style>\n",
       "<table border=\"1\" class=\"dataframe\">\n",
       "  <thead>\n",
       "    <tr style=\"text-align: right;\">\n",
       "      <th></th>\n",
       "      <th>site1</th>\n",
       "      <th>time1</th>\n",
       "      <th>site2</th>\n",
       "      <th>time2</th>\n",
       "      <th>site3</th>\n",
       "      <th>time3</th>\n",
       "      <th>site4</th>\n",
       "      <th>time4</th>\n",
       "      <th>site5</th>\n",
       "      <th>time5</th>\n",
       "      <th>...</th>\n",
       "      <th>site_name1</th>\n",
       "      <th>site_name2</th>\n",
       "      <th>site_name3</th>\n",
       "      <th>site_name4</th>\n",
       "      <th>site_name5</th>\n",
       "      <th>site_name6</th>\n",
       "      <th>site_name7</th>\n",
       "      <th>site_name8</th>\n",
       "      <th>site_name9</th>\n",
       "      <th>site_name10</th>\n",
       "    </tr>\n",
       "    <tr>\n",
       "      <th>session_id</th>\n",
       "      <th></th>\n",
       "      <th></th>\n",
       "      <th></th>\n",
       "      <th></th>\n",
       "      <th></th>\n",
       "      <th></th>\n",
       "      <th></th>\n",
       "      <th></th>\n",
       "      <th></th>\n",
       "      <th></th>\n",
       "      <th></th>\n",
       "      <th></th>\n",
       "      <th></th>\n",
       "      <th></th>\n",
       "      <th></th>\n",
       "      <th></th>\n",
       "      <th></th>\n",
       "      <th></th>\n",
       "      <th></th>\n",
       "      <th></th>\n",
       "      <th></th>\n",
       "    </tr>\n",
       "  </thead>\n",
       "  <tbody>\n",
       "    <tr>\n",
       "      <th>21669</th>\n",
       "      <td>56</td>\n",
       "      <td>2013-01-12 08:05:57</td>\n",
       "      <td>55</td>\n",
       "      <td>2013-01-12 08:05:57</td>\n",
       "      <td>0</td>\n",
       "      <td>1970-01-01 00:00:00</td>\n",
       "      <td>0</td>\n",
       "      <td>1970-01-01 00:00:00</td>\n",
       "      <td>0</td>\n",
       "      <td>1970-01-01 00:00:00</td>\n",
       "      <td>...</td>\n",
       "      <td>safebrowsing clients google com</td>\n",
       "      <td>safebrowsing-cache google com</td>\n",
       "      <td></td>\n",
       "      <td></td>\n",
       "      <td></td>\n",
       "      <td></td>\n",
       "      <td></td>\n",
       "      <td></td>\n",
       "      <td></td>\n",
       "      <td></td>\n",
       "    </tr>\n",
       "    <tr>\n",
       "      <th>54843</th>\n",
       "      <td>56</td>\n",
       "      <td>2013-01-12 08:37:23</td>\n",
       "      <td>55</td>\n",
       "      <td>2013-01-12 08:37:23</td>\n",
       "      <td>56</td>\n",
       "      <td>2013-01-12 09:07:07</td>\n",
       "      <td>55</td>\n",
       "      <td>2013-01-12 09:07:09</td>\n",
       "      <td>0</td>\n",
       "      <td>1970-01-01 00:00:00</td>\n",
       "      <td>...</td>\n",
       "      <td>safebrowsing clients google com</td>\n",
       "      <td>safebrowsing-cache google com</td>\n",
       "      <td>safebrowsing clients google com</td>\n",
       "      <td>safebrowsing-cache google com</td>\n",
       "      <td></td>\n",
       "      <td></td>\n",
       "      <td></td>\n",
       "      <td></td>\n",
       "      <td></td>\n",
       "      <td></td>\n",
       "    </tr>\n",
       "    <tr>\n",
       "      <th>77292</th>\n",
       "      <td>946</td>\n",
       "      <td>2013-01-12 08:50:13</td>\n",
       "      <td>946</td>\n",
       "      <td>2013-01-12 08:50:14</td>\n",
       "      <td>951</td>\n",
       "      <td>2013-01-12 08:50:15</td>\n",
       "      <td>946</td>\n",
       "      <td>2013-01-12 08:50:15</td>\n",
       "      <td>946</td>\n",
       "      <td>2013-01-12 08:50:16</td>\n",
       "      <td>...</td>\n",
       "      <td>www apache org</td>\n",
       "      <td>www apache org</td>\n",
       "      <td>download eclipse org</td>\n",
       "      <td>www apache org</td>\n",
       "      <td>www apache org</td>\n",
       "      <td>www webtide com</td>\n",
       "      <td>download oracle com</td>\n",
       "      <td>javadl-esd-secure oracle com</td>\n",
       "      <td>www caucho com</td>\n",
       "      <td>www apache org</td>\n",
       "    </tr>\n",
       "    <tr>\n",
       "      <th>114021</th>\n",
       "      <td>945</td>\n",
       "      <td>2013-01-12 08:50:17</td>\n",
       "      <td>948</td>\n",
       "      <td>2013-01-12 08:50:17</td>\n",
       "      <td>949</td>\n",
       "      <td>2013-01-12 08:50:18</td>\n",
       "      <td>948</td>\n",
       "      <td>2013-01-12 08:50:18</td>\n",
       "      <td>945</td>\n",
       "      <td>2013-01-12 08:50:18</td>\n",
       "      <td>...</td>\n",
       "      <td>www webtide com</td>\n",
       "      <td>download oracle com</td>\n",
       "      <td>www caucho com</td>\n",
       "      <td>download oracle com</td>\n",
       "      <td>www webtide com</td>\n",
       "      <td>www apache org</td>\n",
       "      <td>public dhe ibm com</td>\n",
       "      <td>www webtide com</td>\n",
       "      <td>www apache org</td>\n",
       "      <td>www apache org</td>\n",
       "    </tr>\n",
       "    <tr>\n",
       "      <th>146670</th>\n",
       "      <td>947</td>\n",
       "      <td>2013-01-12 08:50:20</td>\n",
       "      <td>950</td>\n",
       "      <td>2013-01-12 08:50:20</td>\n",
       "      <td>948</td>\n",
       "      <td>2013-01-12 08:50:20</td>\n",
       "      <td>947</td>\n",
       "      <td>2013-01-12 08:50:21</td>\n",
       "      <td>950</td>\n",
       "      <td>2013-01-12 08:50:21</td>\n",
       "      <td>...</td>\n",
       "      <td>public dhe ibm com</td>\n",
       "      <td>jope ow2 org</td>\n",
       "      <td>download oracle com</td>\n",
       "      <td>public dhe ibm com</td>\n",
       "      <td>jope ow2 org</td>\n",
       "      <td>master dl sourceforge net</td>\n",
       "      <td>www apache org</td>\n",
       "      <td>download eclipse org</td>\n",
       "      <td>www apache org</td>\n",
       "      <td>public dhe ibm com</td>\n",
       "    </tr>\n",
       "  </tbody>\n",
       "</table>\n",
       "<p>5 rows × 30 columns</p>\n",
       "</div>"
      ],
      "text/plain": [
       "            site1               time1  site2               time2  site3  \\\n",
       "session_id                                                                \n",
       "21669          56 2013-01-12 08:05:57     55 2013-01-12 08:05:57      0   \n",
       "54843          56 2013-01-12 08:37:23     55 2013-01-12 08:37:23     56   \n",
       "77292         946 2013-01-12 08:50:13    946 2013-01-12 08:50:14    951   \n",
       "114021        945 2013-01-12 08:50:17    948 2013-01-12 08:50:17    949   \n",
       "146670        947 2013-01-12 08:50:20    950 2013-01-12 08:50:20    948   \n",
       "\n",
       "                         time3  site4               time4  site5  \\\n",
       "session_id                                                         \n",
       "21669      1970-01-01 00:00:00      0 1970-01-01 00:00:00      0   \n",
       "54843      2013-01-12 09:07:07     55 2013-01-12 09:07:09      0   \n",
       "77292      2013-01-12 08:50:15    946 2013-01-12 08:50:15    946   \n",
       "114021     2013-01-12 08:50:18    948 2013-01-12 08:50:18    945   \n",
       "146670     2013-01-12 08:50:20    947 2013-01-12 08:50:21    950   \n",
       "\n",
       "                         time5         ...          \\\n",
       "session_id                             ...           \n",
       "21669      1970-01-01 00:00:00         ...           \n",
       "54843      1970-01-01 00:00:00         ...           \n",
       "77292      2013-01-12 08:50:16         ...           \n",
       "114021     2013-01-12 08:50:18         ...           \n",
       "146670     2013-01-12 08:50:21         ...           \n",
       "\n",
       "                                 site_name1                     site_name2  \\\n",
       "session_id                                                                   \n",
       "21669       safebrowsing clients google com  safebrowsing-cache google com   \n",
       "54843       safebrowsing clients google com  safebrowsing-cache google com   \n",
       "77292                        www apache org                 www apache org   \n",
       "114021                      www webtide com            download oracle com   \n",
       "146670                   public dhe ibm com                   jope ow2 org   \n",
       "\n",
       "                                 site_name3                     site_name4  \\\n",
       "session_id                                                                   \n",
       "21669                                                                        \n",
       "54843       safebrowsing clients google com  safebrowsing-cache google com   \n",
       "77292                  download eclipse org                 www apache org   \n",
       "114021                       www caucho com            download oracle com   \n",
       "146670                  download oracle com             public dhe ibm com   \n",
       "\n",
       "                 site_name5                 site_name6           site_name7  \\\n",
       "session_id                                                                    \n",
       "21669                                                                         \n",
       "54843                                                                         \n",
       "77292        www apache org            www webtide com  download oracle com   \n",
       "114021      www webtide com             www apache org   public dhe ibm com   \n",
       "146670         jope ow2 org  master dl sourceforge net       www apache org   \n",
       "\n",
       "                              site_name8      site_name9         site_name10  \n",
       "session_id                                                                    \n",
       "21669                                                                         \n",
       "54843                                                                         \n",
       "77292       javadl-esd-secure oracle com  www caucho com      www apache org  \n",
       "114021                   www webtide com  www apache org      www apache org  \n",
       "146670              download eclipse org  www apache org  public dhe ibm com  \n",
       "\n",
       "[5 rows x 30 columns]"
      ]
     },
     "execution_count": 12,
     "metadata": {},
     "output_type": "execute_result"
    }
   ],
   "source": [
    "X.head()"
   ]
  },
  {
   "cell_type": "code",
   "execution_count": 13,
   "metadata": {
    "scrolled": true
   },
   "outputs": [],
   "source": [
    "X['all_sites'] = [' '.join(row) for row in X[sites].astype(str).values]\n",
    "test['all_sites'] = [' '.join(row) for row in test[sites].astype(str).values]"
   ]
  },
  {
   "cell_type": "code",
   "execution_count": 13,
   "metadata": {},
   "outputs": [],
   "source": [
    "site_names = ['site_name%s' % i for i in np.arange(1, 11)]\n",
    "X_all_sites_names = [(' '.join(row)).strip() for row in X[site_names].values]\n",
    "test_all_sites_names = [(' '.join(row)).strip() for row in test[site_names].values]"
   ]
  },
  {
   "cell_type": "code",
   "execution_count": 14,
   "metadata": {
    "scrolled": true
   },
   "outputs": [],
   "source": [
    "tf_idf = TfidfVectorizer(ngram_range=(1, 7), max_features=100000, max_df=0.5)\n",
    "tf_idf.fit(X['all_sites'])\n",
    "X_tfidf = tf_idf.transform(X['all_sites'])\n",
    "test_tfidf = tf_idf.transform(test['all_sites'])"
   ]
  },
  {
   "cell_type": "markdown",
   "metadata": {},
   "source": [
    "Add features based on the session start time: hour, whether it's morning, day or night and so on."
   ]
  },
  {
   "cell_type": "code",
   "execution_count": 15,
   "metadata": {},
   "outputs": [],
   "source": [
    "def get_day_part(time):\n",
    "    h = time.hour\n",
    "    if h < 12:\n",
    "        return 1\n",
    "    elif h < 20:\n",
    "        return 2\n",
    "    else:\n",
    "        return 3\n",
    "\n",
    "X['day_part'] = X['time1'].apply(get_day_part)\n",
    "test['day_part'] = test['time1'].apply(get_day_part)"
   ]
  },
  {
   "cell_type": "code",
   "execution_count": 89,
   "metadata": {},
   "outputs": [
    {
     "data": {
      "application/vnd.jupyter.widget-view+json": {
       "model_id": "caa8cac8601b437b837290ee603ca7dc",
       "version_major": 2,
       "version_minor": 0
      },
      "text/html": [
       "<p>Failed to display Jupyter Widget of type <code>HBox</code>.</p>\n",
       "<p>\n",
       "  If you're reading this message in the Jupyter Notebook or JupyterLab Notebook, it may mean\n",
       "  that the widgets JavaScript is still loading. If this message persists, it\n",
       "  likely means that the widgets JavaScript library is either not installed or\n",
       "  not enabled. See the <a href=\"https://ipywidgets.readthedocs.io/en/stable/user_install.html\">Jupyter\n",
       "  Widgets Documentation</a> for setup instructions.\n",
       "</p>\n",
       "<p>\n",
       "  If you're reading this message in another frontend (for example, a static\n",
       "  rendering on GitHub or <a href=\"https://nbviewer.jupyter.org/\">NBViewer</a>),\n",
       "  it may mean that your frontend doesn't currently support widgets.\n",
       "</p>\n"
      ],
      "text/plain": [
       "HBox(children=(IntProgress(value=0, max=253561), HTML(value='')))"
      ]
     },
     "metadata": {},
     "output_type": "display_data"
    },
    {
     "name": "stdout",
     "output_type": "stream",
     "text": [
      "\n"
     ]
    },
    {
     "data": {
      "application/vnd.jupyter.widget-view+json": {
       "model_id": "6b09b49f886a4eb28d0f0ae42dc71917",
       "version_major": 2,
       "version_minor": 0
      },
      "text/html": [
       "<p>Failed to display Jupyter Widget of type <code>HBox</code>.</p>\n",
       "<p>\n",
       "  If you're reading this message in the Jupyter Notebook or JupyterLab Notebook, it may mean\n",
       "  that the widgets JavaScript is still loading. If this message persists, it\n",
       "  likely means that the widgets JavaScript library is either not installed or\n",
       "  not enabled. See the <a href=\"https://ipywidgets.readthedocs.io/en/stable/user_install.html\">Jupyter\n",
       "  Widgets Documentation</a> for setup instructions.\n",
       "</p>\n",
       "<p>\n",
       "  If you're reading this message in another frontend (for example, a static\n",
       "  rendering on GitHub or <a href=\"https://nbviewer.jupyter.org/\">NBViewer</a>),\n",
       "  it may mean that your frontend doesn't currently support widgets.\n",
       "</p>\n"
      ],
      "text/plain": [
       "HBox(children=(IntProgress(value=0, max=82797), HTML(value='')))"
      ]
     },
     "metadata": {},
     "output_type": "display_data"
    },
    {
     "name": "stdout",
     "output_type": "stream",
     "text": [
      "\n"
     ]
    }
   ],
   "source": [
    "alice_hour = ['12', '13', '16', '17', '18']\n",
    "\n",
    "X['day_part_alice'] = [int(row.hour in alice_hour) for row in\n",
    "                                         tqdm_notebook(X['time1'])]\n",
    "test['day_part_alice'] = [int(row.hour in alice_hour) for row in\n",
    "                                         tqdm_notebook(test['time1'])]"
   ]
  },
  {
   "cell_type": "code",
   "execution_count": 15,
   "metadata": {},
   "outputs": [
    {
     "data": {
      "application/vnd.jupyter.widget-view+json": {
       "model_id": "21947a0cb15240c6836db65991cc8f1f",
       "version_major": 2,
       "version_minor": 0
      },
      "text/html": [
       "<p>Failed to display Jupyter Widget of type <code>HBox</code>.</p>\n",
       "<p>\n",
       "  If you're reading this message in the Jupyter Notebook or JupyterLab Notebook, it may mean\n",
       "  that the widgets JavaScript is still loading. If this message persists, it\n",
       "  likely means that the widgets JavaScript library is either not installed or\n",
       "  not enabled. See the <a href=\"https://ipywidgets.readthedocs.io/en/stable/user_install.html\">Jupyter\n",
       "  Widgets Documentation</a> for setup instructions.\n",
       "</p>\n",
       "<p>\n",
       "  If you're reading this message in another frontend (for example, a static\n",
       "  rendering on GitHub or <a href=\"https://nbviewer.jupyter.org/\">NBViewer</a>),\n",
       "  it may mean that your frontend doesn't currently support widgets.\n",
       "</p>\n"
      ],
      "text/plain": [
       "HBox(children=(IntProgress(value=0, max=10), HTML(value='')))"
      ]
     },
     "metadata": {},
     "output_type": "display_data"
    },
    {
     "name": "stdout",
     "output_type": "stream",
     "text": [
      "\n"
     ]
    }
   ],
   "source": [
    "def make_harmonic_features_cos(time, period=24):\n",
    "    value = time.hour\n",
    "    value *= 2 * np.pi / period\n",
    "    return np.cos(value)\n",
    "\n",
    "def make_harmonic_features_sin(time, period=24):\n",
    "    value = time.hour\n",
    "    value *= 2 * np.pi / period\n",
    "    return np.sin(value)\n",
    "\n",
    "hour_coses = ['hour_cos%s' % i for i in np.arange(1, 11)]\n",
    "hour_sins = ['hour_sin%s' % i for i in np.arange(1, 11)]\n",
    "hour = ['hour%s' % i for i in np.arange(1, 11)]\n",
    "\n",
    "for i in tqdm_notebook(np.arange(1, 11)):\n",
    "    X['hour%s' % i] = X['time%s' % i].apply(lambda x: x.hour)\n",
    "    # X['hour_cos%s' % i] = X['time%s' % i].apply(make_harmonic_features_cos)\n",
    "    # X['hour_sin%s' % i] = X['time%s' % i].apply(make_harmonic_features_sin)\n",
    "    test['hour%s' % i] = test['time%s' % i].apply(lambda x: x.hour)\n",
    "    # test['hour_cos%s' % i] = test['time%s' % i].apply(make_harmonic_features_cos)\n",
    "    # test['hour_sin%s' % i] = test['time%s' % i].apply(make_harmonic_features_sin)"
   ]
  },
  {
   "cell_type": "code",
   "execution_count": 68,
   "metadata": {},
   "outputs": [
    {
     "data": {
      "application/vnd.jupyter.widget-view+json": {
       "model_id": "7ff2fd579ae34e03bbe53a94ea820213",
       "version_major": 2,
       "version_minor": 0
      },
      "text/html": [
       "<p>Failed to display Jupyter Widget of type <code>HBox</code>.</p>\n",
       "<p>\n",
       "  If you're reading this message in the Jupyter Notebook or JupyterLab Notebook, it may mean\n",
       "  that the widgets JavaScript is still loading. If this message persists, it\n",
       "  likely means that the widgets JavaScript library is either not installed or\n",
       "  not enabled. See the <a href=\"https://ipywidgets.readthedocs.io/en/stable/user_install.html\">Jupyter\n",
       "  Widgets Documentation</a> for setup instructions.\n",
       "</p>\n",
       "<p>\n",
       "  If you're reading this message in another frontend (for example, a static\n",
       "  rendering on GitHub or <a href=\"https://nbviewer.jupyter.org/\">NBViewer</a>),\n",
       "  it may mean that your frontend doesn't currently support widgets.\n",
       "</p>\n"
      ],
      "text/plain": [
       "HBox(children=(IntProgress(value=0, max=253561), HTML(value='')))"
      ]
     },
     "metadata": {},
     "output_type": "display_data"
    },
    {
     "name": "stdout",
     "output_type": "stream",
     "text": [
      "\n"
     ]
    },
    {
     "data": {
      "application/vnd.jupyter.widget-view+json": {
       "model_id": "88024f6459374725a20b5c933be9ad6d",
       "version_major": 2,
       "version_minor": 0
      },
      "text/html": [
       "<p>Failed to display Jupyter Widget of type <code>HBox</code>.</p>\n",
       "<p>\n",
       "  If you're reading this message in the Jupyter Notebook or JupyterLab Notebook, it may mean\n",
       "  that the widgets JavaScript is still loading. If this message persists, it\n",
       "  likely means that the widgets JavaScript library is either not installed or\n",
       "  not enabled. See the <a href=\"https://ipywidgets.readthedocs.io/en/stable/user_install.html\">Jupyter\n",
       "  Widgets Documentation</a> for setup instructions.\n",
       "</p>\n",
       "<p>\n",
       "  If you're reading this message in another frontend (for example, a static\n",
       "  rendering on GitHub or <a href=\"https://nbviewer.jupyter.org/\">NBViewer</a>),\n",
       "  it may mean that your frontend doesn't currently support widgets.\n",
       "</p>\n"
      ],
      "text/plain": [
       "HBox(children=(IntProgress(value=0, max=82797), HTML(value='')))"
      ]
     },
     "metadata": {},
     "output_type": "display_data"
    },
    {
     "name": "stdout",
     "output_type": "stream",
     "text": [
      "\n"
     ]
    },
    {
     "data": {
      "application/vnd.jupyter.widget-view+json": {
       "model_id": "6257d28999ae4b4a8068f602dc0f9977",
       "version_major": 2,
       "version_minor": 0
      },
      "text/html": [
       "<p>Failed to display Jupyter Widget of type <code>HBox</code>.</p>\n",
       "<p>\n",
       "  If you're reading this message in the Jupyter Notebook or JupyterLab Notebook, it may mean\n",
       "  that the widgets JavaScript is still loading. If this message persists, it\n",
       "  likely means that the widgets JavaScript library is either not installed or\n",
       "  not enabled. See the <a href=\"https://ipywidgets.readthedocs.io/en/stable/user_install.html\">Jupyter\n",
       "  Widgets Documentation</a> for setup instructions.\n",
       "</p>\n",
       "<p>\n",
       "  If you're reading this message in another frontend (for example, a static\n",
       "  rendering on GitHub or <a href=\"https://nbviewer.jupyter.org/\">NBViewer</a>),\n",
       "  it may mean that your frontend doesn't currently support widgets.\n",
       "</p>\n"
      ],
      "text/plain": [
       "HBox(children=(IntProgress(value=0, max=253561), HTML(value='')))"
      ]
     },
     "metadata": {},
     "output_type": "display_data"
    },
    {
     "name": "stdout",
     "output_type": "stream",
     "text": [
      "\n"
     ]
    },
    {
     "data": {
      "application/vnd.jupyter.widget-view+json": {
       "model_id": "4cf18964619743039f38eebaa4e4b052",
       "version_major": 2,
       "version_minor": 0
      },
      "text/html": [
       "<p>Failed to display Jupyter Widget of type <code>HBox</code>.</p>\n",
       "<p>\n",
       "  If you're reading this message in the Jupyter Notebook or JupyterLab Notebook, it may mean\n",
       "  that the widgets JavaScript is still loading. If this message persists, it\n",
       "  likely means that the widgets JavaScript library is either not installed or\n",
       "  not enabled. See the <a href=\"https://ipywidgets.readthedocs.io/en/stable/user_install.html\">Jupyter\n",
       "  Widgets Documentation</a> for setup instructions.\n",
       "</p>\n",
       "<p>\n",
       "  If you're reading this message in another frontend (for example, a static\n",
       "  rendering on GitHub or <a href=\"https://nbviewer.jupyter.org/\">NBViewer</a>),\n",
       "  it may mean that your frontend doesn't currently support widgets.\n",
       "</p>\n"
      ],
      "text/plain": [
       "HBox(children=(IntProgress(value=0, max=82797), HTML(value='')))"
      ]
     },
     "metadata": {},
     "output_type": "display_data"
    },
    {
     "name": "stdout",
     "output_type": "stream",
     "text": [
      "\n"
     ]
    }
   ],
   "source": [
    "X['unique_sites'] = [np.unique(row[row != 0]).shape[0] for row in \n",
    "                     tqdm_notebook(X[['site' + str(i) for i in np.arange(1, 11)]].values)]\n",
    "test['unique_sites'] = [np.unique(row[row != 0]).shape[0] for row in \n",
    "                         tqdm_notebook(test[['site' + str(i) for i in np.arange(1, 11)]].values)]\n",
    "\n",
    "X['visited'] = [row[row != 0].shape[0] for row in \n",
    "                     tqdm_notebook(X[['site' + str(i) for i in np.arange(1, 11)]].values)]\n",
    "test['visited'] = [row[row != 0].shape[0] for row in \n",
    "                         tqdm_notebook(test[['site' + str(i) for i in np.arange(1, 11)]].values)]"
   ]
  },
  {
   "cell_type": "code",
   "execution_count": 16,
   "metadata": {
    "scrolled": true
   },
   "outputs": [
    {
     "data": {
      "application/vnd.jupyter.widget-view+json": {
       "model_id": "883004202bf7489d84b03c80a2f4faa8",
       "version_major": 2,
       "version_minor": 0
      },
      "text/html": [
       "<p>Failed to display Jupyter Widget of type <code>HBox</code>.</p>\n",
       "<p>\n",
       "  If you're reading this message in the Jupyter Notebook or JupyterLab Notebook, it may mean\n",
       "  that the widgets JavaScript is still loading. If this message persists, it\n",
       "  likely means that the widgets JavaScript library is either not installed or\n",
       "  not enabled. See the <a href=\"https://ipywidgets.readthedocs.io/en/stable/user_install.html\">Jupyter\n",
       "  Widgets Documentation</a> for setup instructions.\n",
       "</p>\n",
       "<p>\n",
       "  If you're reading this message in another frontend (for example, a static\n",
       "  rendering on GitHub or <a href=\"https://nbviewer.jupyter.org/\">NBViewer</a>),\n",
       "  it may mean that your frontend doesn't currently support widgets.\n",
       "</p>\n"
      ],
      "text/plain": [
       "HBox(children=(IntProgress(value=0, max=253561), HTML(value='')))"
      ]
     },
     "metadata": {},
     "output_type": "display_data"
    },
    {
     "name": "stdout",
     "output_type": "stream",
     "text": [
      "\n"
     ]
    },
    {
     "data": {
      "application/vnd.jupyter.widget-view+json": {
       "model_id": "29c1ac7dc45d4f3b99e860522e6ca6f2",
       "version_major": 2,
       "version_minor": 0
      },
      "text/html": [
       "<p>Failed to display Jupyter Widget of type <code>HBox</code>.</p>\n",
       "<p>\n",
       "  If you're reading this message in the Jupyter Notebook or JupyterLab Notebook, it may mean\n",
       "  that the widgets JavaScript is still loading. If this message persists, it\n",
       "  likely means that the widgets JavaScript library is either not installed or\n",
       "  not enabled. See the <a href=\"https://ipywidgets.readthedocs.io/en/stable/user_install.html\">Jupyter\n",
       "  Widgets Documentation</a> for setup instructions.\n",
       "</p>\n",
       "<p>\n",
       "  If you're reading this message in another frontend (for example, a static\n",
       "  rendering on GitHub or <a href=\"https://nbviewer.jupyter.org/\">NBViewer</a>),\n",
       "  it may mean that your frontend doesn't currently support widgets.\n",
       "</p>\n"
      ],
      "text/plain": [
       "HBox(children=(IntProgress(value=0, max=82797), HTML(value='')))"
      ]
     },
     "metadata": {},
     "output_type": "display_data"
    },
    {
     "name": "stdout",
     "output_type": "stream",
     "text": [
      "\n"
     ]
    }
   ],
   "source": [
    "def get_duration(row):\n",
    "    zero = np.datetime64('1970-01-01T00:00:00.000000000')\n",
    "    cor = [r for r in row if r != zero]\n",
    "    return (cor[-1] - cor[0])\n",
    "    \n",
    "X['duration'] = [get_duration(row) for row in\n",
    "                     tqdm_notebook(X[['time%s' % i for i in np.arange(1, 11)]].values)]\n",
    "test['duration'] = [get_duration(row) for row in\n",
    "                     tqdm_notebook(test[['time%s' % i for i in np.arange(1, 11)]].values)]\n",
    "\n",
    "X['duration'] = X['duration'].apply(lambda s: int(s.total_seconds()) + 1)\n",
    "test['duration'] = test['duration'].apply(lambda s: int(s.total_seconds()) + 1)"
   ]
  },
  {
   "cell_type": "code",
   "execution_count": 17,
   "metadata": {},
   "outputs": [
    {
     "data": {
      "application/vnd.jupyter.widget-view+json": {
       "model_id": "481a78251237459388c9934f1b1f71de",
       "version_major": 2,
       "version_minor": 0
      },
      "text/html": [
       "<p>Failed to display Jupyter Widget of type <code>HBox</code>.</p>\n",
       "<p>\n",
       "  If you're reading this message in the Jupyter Notebook or JupyterLab Notebook, it may mean\n",
       "  that the widgets JavaScript is still loading. If this message persists, it\n",
       "  likely means that the widgets JavaScript library is either not installed or\n",
       "  not enabled. See the <a href=\"https://ipywidgets.readthedocs.io/en/stable/user_install.html\">Jupyter\n",
       "  Widgets Documentation</a> for setup instructions.\n",
       "</p>\n",
       "<p>\n",
       "  If you're reading this message in another frontend (for example, a static\n",
       "  rendering on GitHub or <a href=\"https://nbviewer.jupyter.org/\">NBViewer</a>),\n",
       "  it may mean that your frontend doesn't currently support widgets.\n",
       "</p>\n"
      ],
      "text/plain": [
       "HBox(children=(IntProgress(value=0, max=253561), HTML(value='')))"
      ]
     },
     "metadata": {},
     "output_type": "display_data"
    },
    {
     "name": "stdout",
     "output_type": "stream",
     "text": [
      "\n"
     ]
    },
    {
     "data": {
      "application/vnd.jupyter.widget-view+json": {
       "model_id": "118d1b6bba754fa8abf16a412cb7573f",
       "version_major": 2,
       "version_minor": 0
      },
      "text/html": [
       "<p>Failed to display Jupyter Widget of type <code>HBox</code>.</p>\n",
       "<p>\n",
       "  If you're reading this message in the Jupyter Notebook or JupyterLab Notebook, it may mean\n",
       "  that the widgets JavaScript is still loading. If this message persists, it\n",
       "  likely means that the widgets JavaScript library is either not installed or\n",
       "  not enabled. See the <a href=\"https://ipywidgets.readthedocs.io/en/stable/user_install.html\">Jupyter\n",
       "  Widgets Documentation</a> for setup instructions.\n",
       "</p>\n",
       "<p>\n",
       "  If you're reading this message in another frontend (for example, a static\n",
       "  rendering on GitHub or <a href=\"https://nbviewer.jupyter.org/\">NBViewer</a>),\n",
       "  it may mean that your frontend doesn't currently support widgets.\n",
       "</p>\n"
      ],
      "text/plain": [
       "HBox(children=(IntProgress(value=0, max=82797), HTML(value='')))"
      ]
     },
     "metadata": {},
     "output_type": "display_data"
    },
    {
     "name": "stdout",
     "output_type": "stream",
     "text": [
      "\n"
     ]
    }
   ],
   "source": [
    "X['weekday'] = [row.weekday() for row in\n",
    "                                         tqdm_notebook(X['time1'])]\n",
    "test['weekday'] = [row.weekday() for row in\n",
    "                                         tqdm_notebook(test['time1'])]"
   ]
  },
  {
   "cell_type": "code",
   "execution_count": 101,
   "metadata": {},
   "outputs": [],
   "source": [
    "X['year'] = X['time1'].apply(lambda x: x.year)\n",
    "test['year'] = test['time1'].apply(lambda x: x.year)"
   ]
  },
  {
   "cell_type": "code",
   "execution_count": 98,
   "metadata": {},
   "outputs": [],
   "source": [
    "X['is_weekend'] = X['month'].apply(lambda x: 1 if x in (5, 6) else 0)\n",
    "test['is_weekend'] = test['month'].apply(lambda x: 1 if x in (5, 6) else 0)"
   ]
  },
  {
   "cell_type": "code",
   "execution_count": 18,
   "metadata": {
    "scrolled": true
   },
   "outputs": [
    {
     "data": {
      "application/vnd.jupyter.widget-view+json": {
       "model_id": "0ff2d1da53944f5d80dc7f471f4f8fe1",
       "version_major": 2,
       "version_minor": 0
      },
      "text/html": [
       "<p>Failed to display Jupyter Widget of type <code>HBox</code>.</p>\n",
       "<p>\n",
       "  If you're reading this message in the Jupyter Notebook or JupyterLab Notebook, it may mean\n",
       "  that the widgets JavaScript is still loading. If this message persists, it\n",
       "  likely means that the widgets JavaScript library is either not installed or\n",
       "  not enabled. See the <a href=\"https://ipywidgets.readthedocs.io/en/stable/user_install.html\">Jupyter\n",
       "  Widgets Documentation</a> for setup instructions.\n",
       "</p>\n",
       "<p>\n",
       "  If you're reading this message in another frontend (for example, a static\n",
       "  rendering on GitHub or <a href=\"https://nbviewer.jupyter.org/\">NBViewer</a>),\n",
       "  it may mean that your frontend doesn't currently support widgets.\n",
       "</p>\n"
      ],
      "text/plain": [
       "HBox(children=(IntProgress(value=0, max=2297), HTML(value='')))"
      ]
     },
     "metadata": {},
     "output_type": "display_data"
    },
    {
     "name": "stdout",
     "output_type": "stream",
     "text": [
      "\n"
     ]
    }
   ],
   "source": [
    "alice_sites_count = defaultdict(int)\n",
    "for row in tqdm_notebook(train_df[train_df['target'] == 1][sites].values):\n",
    "    for site in row:\n",
    "        alice_sites_count[site] += 1\n",
    "alice_sites = sorted([(k, v) for (k, v) in alice_sites_count.items()], key=lambda x: x[1], reverse=True)\n",
    "alice_top_sites = [i[0] for i in alice_sites][:10]\n",
    "\n",
    "X['visit_top_site'] = X[sites].apply(lambda row: len(list(filter(lambda x: x in alice_top_sites, row))), axis=1)\n",
    "test['visit_top_site'] = test[sites].apply(lambda row: len(list(filter(lambda x: x in alice_top_sites, row))), axis=1)"
   ]
  },
  {
   "cell_type": "code",
   "execution_count": 44,
   "metadata": {},
   "outputs": [],
   "source": [
    "X['start_hour'] = X['time1'].apply(lambda x: x.hour)\n",
    "test['start_hour'] = test['time1'].apply(lambda x: x.hour)"
   ]
  },
  {
   "cell_type": "code",
   "execution_count": 59,
   "metadata": {},
   "outputs": [],
   "source": [
    "def make_harmonic_features_cos_month(month, period=12):\n",
    "    month -= 1\n",
    "    month *= 2 * np.pi / period\n",
    "    return np.cos(month)\n",
    "\n",
    "def make_harmonic_features_sin_month(month, period=12):\n",
    "    month -= 1\n",
    "    month *= 2 * np.pi / period\n",
    "    return np.sin(month)\n",
    "\n",
    "X['month'] = X['time1'].apply(lambda x: x.month)\n",
    "test['month'] = test['time1'].apply(lambda x: x.month)\n",
    "# X['month_cos'] = X['month'].apply(make_harmonic_features_cos_month)\n",
    "# test['month_cos'] = test['month'].apply(make_harmonic_features_cos_month)\n",
    "# X['month_sin'] = X['month'].apply(make_harmonic_features_sin_month)\n",
    "# test['month_sin'] = test['month'].apply(make_harmonic_features_sin_month)"
   ]
  },
  {
   "cell_type": "code",
   "execution_count": 107,
   "metadata": {},
   "outputs": [],
   "source": [
    "def make_harmonic_features_cos_weekday(value, period=7):\n",
    "    value *= 2 * np.pi / period\n",
    "    return np.cos(value)\n",
    "\n",
    "def make_harmonic_features_sin_weekday(value, period=7):\n",
    "    value *= 2 * np.pi / period\n",
    "    return np.sin(value)\n",
    "\n",
    "X['weekday_cos'] = X['weekday'].apply(make_harmonic_features_cos_weekday)\n",
    "test['weekday_cos'] = test['weekday'].apply(make_harmonic_features_cos_weekday)\n",
    "X['weekday_sin'] = X['weekday'].apply(make_harmonic_features_sin_weekday)\n",
    "test['weekday_sin'] = test['weekday'].apply(make_harmonic_features_sin_weekday)"
   ]
  },
  {
   "cell_type": "code",
   "execution_count": 23,
   "metadata": {},
   "outputs": [],
   "source": [
    "X['site_per_sec'] = X[['duration', 'visited']].apply(lambda x: x[0] / x[1], axis=1)\n",
    "test['site_per_sec'] = test[['duration', 'visited']].apply(lambda x: x[0] / x[1], axis=1)"
   ]
  },
  {
   "cell_type": "code",
   "execution_count": 82,
   "metadata": {},
   "outputs": [],
   "source": [
    "X['ratio'] = X[['unique_sites', 'visited']].apply(lambda x: x[0] / x[1], axis=1)\n",
    "test['ratio'] = test[['unique_sites', 'visited']].apply(lambda x: x[0] / x[1], axis=1)"
   ]
  },
  {
   "cell_type": "code",
   "execution_count": 284,
   "metadata": {},
   "outputs": [],
   "source": [
    "def is_worktime(hour, weekday):\n",
    "    if (hour >= 9 and hour <= 13) or (hour >= 14 and hour <= 18):\n",
    "        if weekday != 6:\n",
    "            return 1\n",
    "        else:\n",
    "            return 0\n",
    "    else:\n",
    "        return 0\n",
    "    \n",
    "X['worktime'] = X[['hour1', 'weekday']].apply(lambda x: is_worktime(x[0], x[1]), axis=1)\n",
    "test['worktime'] = test[['hour1', 'weekday']].apply(lambda x: is_worktime(x[0], x[1]), axis=1)"
   ]
  },
  {
   "cell_type": "code",
   "execution_count": 19,
   "metadata": {},
   "outputs": [],
   "source": [
    "def get_yyyymm(time):\n",
    "    year = time.year\n",
    "    month = time.month\n",
    "    if month < 10:\n",
    "        return str(year) + '0' + str(month)\n",
    "    else:\n",
    "        return str(year) + str(month)\n",
    "\n",
    "X['YYYYMM'] = X['time1'].apply(lambda x: get_yyyymm(x)).astype(int)\n",
    "test['YYYYMM'] = test['time1'].apply(lambda x: get_yyyymm(x)).astype(int)"
   ]
  },
  {
   "cell_type": "code",
   "execution_count": 20,
   "metadata": {
    "scrolled": false
   },
   "outputs": [
    {
     "data": {
      "text/html": [
       "<div>\n",
       "<style scoped>\n",
       "    .dataframe tbody tr th:only-of-type {\n",
       "        vertical-align: middle;\n",
       "    }\n",
       "\n",
       "    .dataframe tbody tr th {\n",
       "        vertical-align: top;\n",
       "    }\n",
       "\n",
       "    .dataframe thead th {\n",
       "        text-align: right;\n",
       "    }\n",
       "</style>\n",
       "<table border=\"1\" class=\"dataframe\">\n",
       "  <thead>\n",
       "    <tr style=\"text-align: right;\">\n",
       "      <th></th>\n",
       "      <th>site1</th>\n",
       "      <th>time1</th>\n",
       "      <th>site2</th>\n",
       "      <th>time2</th>\n",
       "      <th>site3</th>\n",
       "      <th>time3</th>\n",
       "      <th>site4</th>\n",
       "      <th>time4</th>\n",
       "      <th>site5</th>\n",
       "      <th>time5</th>\n",
       "      <th>...</th>\n",
       "      <th>hour5</th>\n",
       "      <th>hour6</th>\n",
       "      <th>hour7</th>\n",
       "      <th>hour8</th>\n",
       "      <th>hour9</th>\n",
       "      <th>hour10</th>\n",
       "      <th>duration</th>\n",
       "      <th>weekday</th>\n",
       "      <th>visit_top_site</th>\n",
       "      <th>YYYYMM</th>\n",
       "    </tr>\n",
       "    <tr>\n",
       "      <th>session_id</th>\n",
       "      <th></th>\n",
       "      <th></th>\n",
       "      <th></th>\n",
       "      <th></th>\n",
       "      <th></th>\n",
       "      <th></th>\n",
       "      <th></th>\n",
       "      <th></th>\n",
       "      <th></th>\n",
       "      <th></th>\n",
       "      <th></th>\n",
       "      <th></th>\n",
       "      <th></th>\n",
       "      <th></th>\n",
       "      <th></th>\n",
       "      <th></th>\n",
       "      <th></th>\n",
       "      <th></th>\n",
       "      <th></th>\n",
       "      <th></th>\n",
       "      <th></th>\n",
       "    </tr>\n",
       "  </thead>\n",
       "  <tbody>\n",
       "    <tr>\n",
       "      <th>21669</th>\n",
       "      <td>56</td>\n",
       "      <td>2013-01-12 08:05:57</td>\n",
       "      <td>55</td>\n",
       "      <td>2013-01-12 08:05:57</td>\n",
       "      <td>0</td>\n",
       "      <td>1970-01-01 00:00:00</td>\n",
       "      <td>0</td>\n",
       "      <td>1970-01-01 00:00:00</td>\n",
       "      <td>0</td>\n",
       "      <td>1970-01-01 00:00:00</td>\n",
       "      <td>...</td>\n",
       "      <td>0</td>\n",
       "      <td>0</td>\n",
       "      <td>0</td>\n",
       "      <td>0</td>\n",
       "      <td>0</td>\n",
       "      <td>0</td>\n",
       "      <td>1</td>\n",
       "      <td>5</td>\n",
       "      <td>0</td>\n",
       "      <td>201301</td>\n",
       "    </tr>\n",
       "    <tr>\n",
       "      <th>54843</th>\n",
       "      <td>56</td>\n",
       "      <td>2013-01-12 08:37:23</td>\n",
       "      <td>55</td>\n",
       "      <td>2013-01-12 08:37:23</td>\n",
       "      <td>56</td>\n",
       "      <td>2013-01-12 09:07:07</td>\n",
       "      <td>55</td>\n",
       "      <td>2013-01-12 09:07:09</td>\n",
       "      <td>0</td>\n",
       "      <td>1970-01-01 00:00:00</td>\n",
       "      <td>...</td>\n",
       "      <td>0</td>\n",
       "      <td>0</td>\n",
       "      <td>0</td>\n",
       "      <td>0</td>\n",
       "      <td>0</td>\n",
       "      <td>0</td>\n",
       "      <td>1787</td>\n",
       "      <td>5</td>\n",
       "      <td>0</td>\n",
       "      <td>201301</td>\n",
       "    </tr>\n",
       "    <tr>\n",
       "      <th>77292</th>\n",
       "      <td>946</td>\n",
       "      <td>2013-01-12 08:50:13</td>\n",
       "      <td>946</td>\n",
       "      <td>2013-01-12 08:50:14</td>\n",
       "      <td>951</td>\n",
       "      <td>2013-01-12 08:50:15</td>\n",
       "      <td>946</td>\n",
       "      <td>2013-01-12 08:50:15</td>\n",
       "      <td>946</td>\n",
       "      <td>2013-01-12 08:50:16</td>\n",
       "      <td>...</td>\n",
       "      <td>8</td>\n",
       "      <td>8</td>\n",
       "      <td>8</td>\n",
       "      <td>8</td>\n",
       "      <td>8</td>\n",
       "      <td>8</td>\n",
       "      <td>5</td>\n",
       "      <td>5</td>\n",
       "      <td>0</td>\n",
       "      <td>201301</td>\n",
       "    </tr>\n",
       "    <tr>\n",
       "      <th>114021</th>\n",
       "      <td>945</td>\n",
       "      <td>2013-01-12 08:50:17</td>\n",
       "      <td>948</td>\n",
       "      <td>2013-01-12 08:50:17</td>\n",
       "      <td>949</td>\n",
       "      <td>2013-01-12 08:50:18</td>\n",
       "      <td>948</td>\n",
       "      <td>2013-01-12 08:50:18</td>\n",
       "      <td>945</td>\n",
       "      <td>2013-01-12 08:50:18</td>\n",
       "      <td>...</td>\n",
       "      <td>8</td>\n",
       "      <td>8</td>\n",
       "      <td>8</td>\n",
       "      <td>8</td>\n",
       "      <td>8</td>\n",
       "      <td>8</td>\n",
       "      <td>4</td>\n",
       "      <td>5</td>\n",
       "      <td>0</td>\n",
       "      <td>201301</td>\n",
       "    </tr>\n",
       "    <tr>\n",
       "      <th>146670</th>\n",
       "      <td>947</td>\n",
       "      <td>2013-01-12 08:50:20</td>\n",
       "      <td>950</td>\n",
       "      <td>2013-01-12 08:50:20</td>\n",
       "      <td>948</td>\n",
       "      <td>2013-01-12 08:50:20</td>\n",
       "      <td>947</td>\n",
       "      <td>2013-01-12 08:50:21</td>\n",
       "      <td>950</td>\n",
       "      <td>2013-01-12 08:50:21</td>\n",
       "      <td>...</td>\n",
       "      <td>8</td>\n",
       "      <td>8</td>\n",
       "      <td>8</td>\n",
       "      <td>8</td>\n",
       "      <td>8</td>\n",
       "      <td>8</td>\n",
       "      <td>3</td>\n",
       "      <td>5</td>\n",
       "      <td>0</td>\n",
       "      <td>201301</td>\n",
       "    </tr>\n",
       "  </tbody>\n",
       "</table>\n",
       "<p>5 rows × 45 columns</p>\n",
       "</div>"
      ],
      "text/plain": [
       "            site1               time1  site2               time2  site3  \\\n",
       "session_id                                                                \n",
       "21669          56 2013-01-12 08:05:57     55 2013-01-12 08:05:57      0   \n",
       "54843          56 2013-01-12 08:37:23     55 2013-01-12 08:37:23     56   \n",
       "77292         946 2013-01-12 08:50:13    946 2013-01-12 08:50:14    951   \n",
       "114021        945 2013-01-12 08:50:17    948 2013-01-12 08:50:17    949   \n",
       "146670        947 2013-01-12 08:50:20    950 2013-01-12 08:50:20    948   \n",
       "\n",
       "                         time3  site4               time4  site5  \\\n",
       "session_id                                                         \n",
       "21669      1970-01-01 00:00:00      0 1970-01-01 00:00:00      0   \n",
       "54843      2013-01-12 09:07:07     55 2013-01-12 09:07:09      0   \n",
       "77292      2013-01-12 08:50:15    946 2013-01-12 08:50:15    946   \n",
       "114021     2013-01-12 08:50:18    948 2013-01-12 08:50:18    945   \n",
       "146670     2013-01-12 08:50:20    947 2013-01-12 08:50:21    950   \n",
       "\n",
       "                         time5   ...    hour5 hour6  hour7 hour8  hour9  \\\n",
       "session_id                       ...                                      \n",
       "21669      1970-01-01 00:00:00   ...        0     0      0     0      0   \n",
       "54843      1970-01-01 00:00:00   ...        0     0      0     0      0   \n",
       "77292      2013-01-12 08:50:16   ...        8     8      8     8      8   \n",
       "114021     2013-01-12 08:50:18   ...        8     8      8     8      8   \n",
       "146670     2013-01-12 08:50:21   ...        8     8      8     8      8   \n",
       "\n",
       "           hour10  duration weekday  visit_top_site  YYYYMM  \n",
       "session_id                                                   \n",
       "21669           0         1       5               0  201301  \n",
       "54843           0      1787       5               0  201301  \n",
       "77292           8         5       5               0  201301  \n",
       "114021          8         4       5               0  201301  \n",
       "146670          8         3       5               0  201301  \n",
       "\n",
       "[5 rows x 45 columns]"
      ]
     },
     "execution_count": 20,
     "metadata": {},
     "output_type": "execute_result"
    }
   ],
   "source": [
    "X.head()"
   ]
  },
  {
   "cell_type": "code",
   "execution_count": 21,
   "metadata": {},
   "outputs": [
    {
     "data": {
      "text/plain": [
       "Index(['site1', 'time1', 'site2', 'time2', 'site3', 'time3', 'site4', 'time4',\n",
       "       'site5', 'time5', 'site6', 'time6', 'site7', 'time7', 'site8', 'time8',\n",
       "       'site9', 'time9', 'site10', 'time10', 'site_name1', 'site_name2',\n",
       "       'site_name3', 'site_name4', 'site_name5', 'site_name6', 'site_name7',\n",
       "       'site_name8', 'site_name9', 'site_name10', 'all_sites', 'hour1',\n",
       "       'hour2', 'hour3', 'hour4', 'hour5', 'hour6', 'hour7', 'hour8', 'hour9',\n",
       "       'hour10', 'duration', 'weekday', 'visit_top_site', 'YYYYMM'],\n",
       "      dtype='object')"
      ]
     },
     "execution_count": 21,
     "metadata": {},
     "output_type": "execute_result"
    }
   ],
   "source": [
    "X.columns"
   ]
  },
  {
   "cell_type": "code",
   "execution_count": 22,
   "metadata": {
    "scrolled": true
   },
   "outputs": [
    {
     "data": {
      "text/plain": [
       "<matplotlib.axes._subplots.AxesSubplot at 0x7f89c78dd2e8>"
      ]
     },
     "execution_count": 22,
     "metadata": {},
     "output_type": "execute_result"
    },
    {
     "data": {
      "image/png": "[encoded data removed]",
      "text/plain": [
       "<Figure size 432x288 with 2 Axes>"
      ]
     },
     "metadata": {},
     "output_type": "display_data"
    }
   ],
   "source": [
    "sns.heatmap(pd.concat([X[['duration', 'visit_top_site', 'YYYYMM']], y], axis=1).corr())"
   ]
  },
  {
   "cell_type": "markdown",
   "metadata": {},
   "source": [
    "Scale this features and combine then with Tf-Idf based on sites (you'll need `scipy.sparse.hstack`)"
   ]
  },
  {
   "cell_type": "code",
   "execution_count": 23,
   "metadata": {
    "scrolled": true
   },
   "outputs": [],
   "source": [
    "ohe = OneHotEncoder()\n",
    "ohe_columns = ['weekday'] + hour\n",
    "ohe.fit(X[ohe_columns])\n",
    "X_ohe = ohe.transform(X[ohe_columns])\n",
    "test_ohe = ohe.transform(test[ohe_columns])"
   ]
  },
  {
   "cell_type": "code",
   "execution_count": 24,
   "metadata": {
    "scrolled": true
   },
   "outputs": [],
   "source": [
    "ss = StandardScaler()\n",
    "mm = MinMaxScaler()\n",
    "columns = ['duration', 'visit_top_site', 'YYYYMM']\n",
    "\n",
    "X_numeric = X[columns]\n",
    "test_numeric = test[columns]\n",
    "\n",
    "ss.fit(X_numeric.append(test_numeric))\n",
    "X_numeric = ss.transform(X_numeric)\n",
    "test_numeric = ss.transform(test_numeric)\n",
    "\n",
    "# mm.fit(X_numeric.append(test_numeric))\n",
    "# X_numeric = mm.transform(X_numeric)\n",
    "# test_numeric = mm.transform(test_numeric)"
   ]
  },
  {
   "cell_type": "code",
   "execution_count": 25,
   "metadata": {},
   "outputs": [
    {
     "data": {
      "text/html": [
       "<div>\n",
       "<style scoped>\n",
       "    .dataframe tbody tr th:only-of-type {\n",
       "        vertical-align: middle;\n",
       "    }\n",
       "\n",
       "    .dataframe tbody tr th {\n",
       "        vertical-align: top;\n",
       "    }\n",
       "\n",
       "    .dataframe thead th {\n",
       "        text-align: right;\n",
       "    }\n",
       "</style>\n",
       "<table border=\"1\" class=\"dataframe\">\n",
       "  <thead>\n",
       "    <tr style=\"text-align: right;\">\n",
       "      <th></th>\n",
       "      <th>duration</th>\n",
       "      <th>visit_top_site</th>\n",
       "      <th>YYYYMM</th>\n",
       "    </tr>\n",
       "  </thead>\n",
       "  <tbody>\n",
       "    <tr>\n",
       "      <th>count</th>\n",
       "      <td>253561.000000</td>\n",
       "      <td>253561.000000</td>\n",
       "      <td>253561.000000</td>\n",
       "    </tr>\n",
       "    <tr>\n",
       "      <th>mean</th>\n",
       "      <td>0.003731</td>\n",
       "      <td>-0.004081</td>\n",
       "      <td>-0.205333</td>\n",
       "    </tr>\n",
       "    <tr>\n",
       "      <th>std</th>\n",
       "      <td>1.008779</td>\n",
       "      <td>0.989884</td>\n",
       "      <td>1.074147</td>\n",
       "    </tr>\n",
       "    <tr>\n",
       "      <th>min</th>\n",
       "      <td>-0.468611</td>\n",
       "      <td>-0.648323</td>\n",
       "      <td>-2.079076</td>\n",
       "    </tr>\n",
       "    <tr>\n",
       "      <th>25%</th>\n",
       "      <td>-0.444737</td>\n",
       "      <td>-0.648323</td>\n",
       "      <td>-1.800775</td>\n",
       "    </tr>\n",
       "    <tr>\n",
       "      <th>50%</th>\n",
       "      <td>-0.376526</td>\n",
       "      <td>-0.648323</td>\n",
       "      <td>0.476232</td>\n",
       "    </tr>\n",
       "    <tr>\n",
       "      <th>75%</th>\n",
       "      <td>-0.083219</td>\n",
       "      <td>0.310477</td>\n",
       "      <td>0.501532</td>\n",
       "    </tr>\n",
       "    <tr>\n",
       "      <th>max</th>\n",
       "      <td>5.670382</td>\n",
       "      <td>4.145677</td>\n",
       "      <td>0.526832</td>\n",
       "    </tr>\n",
       "  </tbody>\n",
       "</table>\n",
       "</div>"
      ],
      "text/plain": [
       "            duration  visit_top_site         YYYYMM\n",
       "count  253561.000000   253561.000000  253561.000000\n",
       "mean        0.003731       -0.004081      -0.205333\n",
       "std         1.008779        0.989884       1.074147\n",
       "min        -0.468611       -0.648323      -2.079076\n",
       "25%        -0.444737       -0.648323      -1.800775\n",
       "50%        -0.376526       -0.648323       0.476232\n",
       "75%        -0.083219        0.310477       0.501532\n",
       "max         5.670382        4.145677       0.526832"
      ]
     },
     "execution_count": 25,
     "metadata": {},
     "output_type": "execute_result"
    }
   ],
   "source": [
    "pd.DataFrame(X_numeric, columns=columns).describe()"
   ]
  },
  {
   "cell_type": "code",
   "execution_count": 26,
   "metadata": {},
   "outputs": [],
   "source": [
    "bin_columns = []\n",
    "X_binary = X[bin_columns]\n",
    "test_binary = test[bin_columns]"
   ]
  },
  {
   "cell_type": "code",
   "execution_count": 27,
   "metadata": {},
   "outputs": [],
   "source": [
    "X_at_all = hstack([X_tfidf, X_binary, X_numeric, X_ohe]).tocsr()\n",
    "test_at_all = hstack([test_tfidf, test_binary, test_numeric, test_ohe]).tocsr()"
   ]
  },
  {
   "cell_type": "markdown",
   "metadata": {},
   "source": [
    "Perform cross-validation with logistic regression."
   ]
  },
  {
   "cell_type": "code",
   "execution_count": 43,
   "metadata": {},
   "outputs": [],
   "source": [
    "def get_auc_lr_valid(X, y, C=1.0, seed=17, ratio=0.7):\n",
    "    # Split the data into the training and validation sets\n",
    "    idx = int(round(X.shape[0] * ratio))\n",
    "    # Classifier training\n",
    "    # lr = LogisticRegression(C=C, random_state=seed, n_jobs=-1).fit(X[:idx, :], y[:idx])\n",
    "    lr = xgb.XGBClassifier(random_state=seed, nthread=-1, reg_lambda=C).fit(X[:idx, :], y[:idx])\n",
    "    # Prediction for validation set\n",
    "    y_pred_val = lr.predict_proba(X[idx:, :])[:, 1]\n",
    "    y_pred_train = lr.predict_proba(X[:idx, :])[:, 1]\n",
    "    # Calculate the quality\n",
    "    score_val = roc_auc_score(y[idx:], y_pred_val)\n",
    "    score_train = roc_auc_score(y[:idx], y_pred_train)\n",
    "    return (score_train, score_val)"
   ]
  },
  {
   "cell_type": "code",
   "execution_count": 44,
   "metadata": {},
   "outputs": [
    {
     "name": "stdout",
     "output_type": "stream",
     "text": [
      "(0.9814653132116806, 0.95826416080158)\n",
      "CPU times: user 1min 34s, sys: 1.68 s, total: 1min 36s\n",
      "Wall time: 28.7 s\n"
     ]
    }
   ],
   "source": [
    "%%time\n",
    "print(get_auc_lr_valid(X_at_all, y))"
   ]
  },
  {
   "cell_type": "code",
   "execution_count": 45,
   "metadata": {},
   "outputs": [
    {
     "data": {
      "application/vnd.jupyter.widget-view+json": {
       "model_id": "93e0b4a63cd04f108857bd8cbcfd1a49",
       "version_major": 2,
       "version_minor": 0
      },
      "text/html": [
       "<p>Failed to display Jupyter Widget of type <code>HBox</code>.</p>\n",
       "<p>\n",
       "  If you're reading this message in the Jupyter Notebook or JupyterLab Notebook, it may mean\n",
       "  that the widgets JavaScript is still loading. If this message persists, it\n",
       "  likely means that the widgets JavaScript library is either not installed or\n",
       "  not enabled. See the <a href=\"https://ipywidgets.readthedocs.io/en/stable/user_install.html\">Jupyter\n",
       "  Widgets Documentation</a> for setup instructions.\n",
       "</p>\n",
       "<p>\n",
       "  If you're reading this message in another frontend (for example, a static\n",
       "  rendering on GitHub or <a href=\"https://nbviewer.jupyter.org/\">NBViewer</a>),\n",
       "  it may mean that your frontend doesn't currently support widgets.\n",
       "</p>\n"
      ],
      "text/plain": [
       "HBox(children=(IntProgress(value=0, max=5), HTML(value='')))"
      ]
     },
     "metadata": {},
     "output_type": "display_data"
    },
    {
     "name": "stdout",
     "output_type": "stream",
     "text": [
      "\n"
     ]
    }
   ],
   "source": [
    "train_score = []\n",
    "val_score = []\n",
    "C = [0.0001, 0.001, 0.01, 1, 2]\n",
    "for c in tqdm_notebook(C):\n",
    "    score = get_auc_lr_valid(X_at_all, y, C=c, ratio=0.7)\n",
    "    train_score.append(score[0])\n",
    "    val_score.append(score[1])"
   ]
  },
  {
   "cell_type": "code",
   "execution_count": 46,
   "metadata": {
    "scrolled": false
   },
   "outputs": [
    {
     "data": {
      "text/plain": [
       "Text(0.5,0,'C')"
      ]
     },
     "execution_count": 46,
     "metadata": {},
     "output_type": "execute_result"
    },
    {
     "data": {
      "image/png": "[encoded data removed]",
      "text/plain": [
       "<Figure size 720x432 with 1 Axes>"
      ]
     },
     "metadata": {},
     "output_type": "display_data"
    }
   ],
   "source": [
    "(fig, ax) = plt.subplots(figsize=(10, 6))\n",
    "ax.plot(C, train_score, alpha=0.5, color='blue', label='train')\n",
    "ax.plot(C, val_score, alpha=0.5, color='red', label='val')\n",
    "ax.legend(loc='best')\n",
    "ax.set_ylim([0.9,1])\n",
    "ax.set_ylabel('roc_auc')\n",
    "ax.set_xlabel('C')"
   ]
  },
  {
   "cell_type": "code",
   "execution_count": 47,
   "metadata": {
    "scrolled": true
   },
   "outputs": [
    {
     "data": {
      "text/plain": [
       "[((0.0001, 0.9846628120384249), (0.0001, 0.9610679492515437)),\n",
       " ((0.001, 0.9837904200827943), (0.001, 0.9592025929911355)),\n",
       " ((0.01, 0.9849786760031856), (0.01, 0.9606464265483818)),\n",
       " ((1, 0.9814653132116806), (1, 0.95826416080158)),\n",
       " ((2, 0.9781435212932129), (2, 0.959510794795158))]"
      ]
     },
     "execution_count": 47,
     "metadata": {},
     "output_type": "execute_result"
    }
   ],
   "source": [
    "list(zip(zip(C, train_score), zip(C, val_score)))"
   ]
  },
  {
   "cell_type": "code",
   "execution_count": 332,
   "metadata": {},
   "outputs": [
    {
     "name": "stdout",
     "output_type": "stream",
     "text": [
      "CPU times: user 5 µs, sys: 0 ns, total: 5 µs\n",
      "Wall time: 9.3 µs\n"
     ]
    },
    {
     "data": {
      "text/plain": [
       "LogisticRegression(C=2, class_weight=None, dual=False, fit_intercept=True,\n",
       "          intercept_scaling=1, max_iter=100, multi_class='ovr', n_jobs=-1,\n",
       "          penalty='l2', random_state=17, solver='liblinear', tol=0.0001,\n",
       "          verbose=0, warm_start=False)"
      ]
     },
     "execution_count": 332,
     "metadata": {},
     "output_type": "execute_result"
    }
   ],
   "source": [
    "%time\n",
    "clf = LogisticRegression(random_state=17, n_jobs=-1, C=2)\n",
    "clf.fit(X_at_all, y)"
   ]
  },
  {
   "cell_type": "code",
   "execution_count": 48,
   "metadata": {},
   "outputs": [
    {
     "name": "stdout",
     "output_type": "stream",
     "text": [
      "CPU times: user 4 µs, sys: 0 ns, total: 4 µs\n",
      "Wall time: 7.87 µs\n"
     ]
    },
    {
     "data": {
      "text/plain": [
       "XGBClassifier(base_score=0.5, booster='gbtree', colsample_bylevel=1,\n",
       "       colsample_bytree=1, gamma=0, learning_rate=0.1, max_delta_step=0,\n",
       "       max_depth=3, min_child_weight=1, missing=None, n_estimators=100,\n",
       "       n_jobs=1, nthread=-1, objective='binary:logistic', random_state=17,\n",
       "       reg_alpha=0, reg_lambda=0.0001, scale_pos_weight=1, seed=None,\n",
       "       silent=True, subsample=1)"
      ]
     },
     "execution_count": 48,
     "metadata": {},
     "output_type": "execute_result"
    }
   ],
   "source": [
    "%time\n",
    "clf = xgb.XGBClassifier(random_state=17, nthread=-1, reg_lambda=0.0001)\n",
    "clf.fit(X_at_all, y)"
   ]
  },
  {
   "cell_type": "markdown",
   "metadata": {},
   "source": [
    "Make prediction for the test set and form a submission file."
   ]
  },
  {
   "cell_type": "code",
   "execution_count": 49,
   "metadata": {
    "scrolled": true
   },
   "outputs": [],
   "source": [
    "test_pred = clf.predict_proba(test_at_all)"
   ]
  },
  {
   "cell_type": "code",
   "execution_count": 50,
   "metadata": {},
   "outputs": [],
   "source": [
    "def write_to_submission_file(predicted_labels, out_file,\n",
    "                             target='target', index_label=\"session_id\"):\n",
    "    predicted_df = pd.DataFrame(predicted_labels,\n",
    "                                index = np.arange(1, predicted_labels.shape[0] + 1),\n",
    "                                columns=[target])\n",
    "    predicted_df.to_csv(out_file, index_label=index_label)\n"
   ]
  },
  {
   "cell_type": "code",
   "execution_count": 51,
   "metadata": {
    "scrolled": true
   },
   "outputs": [],
   "source": [
    "write_to_submission_file(test_pred[:, 1],\n",
    "                         './submissions/tfidf1-7-numbers+ss+regl1e-3_xgboost.csv')"
   ]
  },
  {
   "cell_type": "markdown",
   "metadata": {},
   "source": [
    "## boosting"
   ]
  },
  {
   "cell_type": "code",
   "execution_count": 189,
   "metadata": {},
   "outputs": [],
   "source": [
    "import xgboost as xgb\n",
    "import catboost"
   ]
  },
  {
   "cell_type": "code",
   "execution_count": 237,
   "metadata": {},
   "outputs": [],
   "source": [
    "X_boost = X[hour + ['weekday', 'duration']]\n",
    "test_boost = test[hour + ['weekday', 'duration']]\n",
    "\n",
    "# X_boost = pd.DataFrame(hstack([X_ohe, X_numeric]).todense())\n",
    "# test_boost = pd.DataFrame(hstack([test_ohe, test_numeric]).todense())"
   ]
  },
  {
   "cell_type": "code",
   "execution_count": 238,
   "metadata": {},
   "outputs": [],
   "source": [
    "cat_features = list(np.arange(0, X_boost.shape[1] - 1))"
   ]
  },
  {
   "cell_type": "code",
   "execution_count": 239,
   "metadata": {},
   "outputs": [],
   "source": [
    "def get_auc_lr_valid_xgb(X, y, n_estimators=100, seed=17, ratio=0.7, cat_features=[]):\n",
    "    # Split the data into the training and validation sets\n",
    "    idx = int(round(X.shape[0] * ratio))\n",
    "    # Classifier training\n",
    "    # clf = xgb.XGBClassifier(booster='gblinear', n_jobs=-1, random_state=seed)\n",
    "    clf = catboost.CatBoostClassifier(random_seed=seed, n_estimators=n_estimators)\n",
    "    clf.fit(X.iloc[:idx, :], y[:idx])\n",
    "    # Prediction for validation set\n",
    "    y_pred_val = clf.predict_proba(X.iloc[idx:, :])[:, 1]\n",
    "    y_pred_train = clf.predict_proba(X.iloc[:idx, :])[:, 1]\n",
    "    # Calculate the quality\n",
    "    score_val = roc_auc_score(y[idx:], y_pred_val)\n",
    "    score_train = roc_auc_score(y[:idx], y_pred_train)\n",
    "    return (score_train, score_val)"
   ]
  },
  {
   "cell_type": "code",
   "execution_count": 240,
   "metadata": {
    "scrolled": true
   },
   "outputs": [
    {
     "name": "stdout",
     "output_type": "stream",
     "text": [
      "0:\tlearn: 0.6063719\ttotal: 68.2ms\tremaining: 6.75s\n",
      "1:\tlearn: 0.5321133\ttotal: 140ms\tremaining: 6.84s\n",
      "2:\tlearn: 0.4643030\ttotal: 209ms\tremaining: 6.75s\n",
      "3:\tlearn: 0.4079009\ttotal: 285ms\tremaining: 6.85s\n",
      "4:\tlearn: 0.3594168\ttotal: 358ms\tremaining: 6.81s\n",
      "5:\tlearn: 0.3178158\ttotal: 436ms\tremaining: 6.83s\n",
      "6:\tlearn: 0.2821433\ttotal: 522ms\tremaining: 6.94s\n",
      "7:\tlearn: 0.2515467\ttotal: 606ms\tremaining: 6.96s\n",
      "8:\tlearn: 0.2253346\ttotal: 691ms\tremaining: 6.99s\n",
      "9:\tlearn: 0.2027370\ttotal: 782ms\tremaining: 7.03s\n",
      "10:\tlearn: 0.1832683\ttotal: 852ms\tremaining: 6.89s\n",
      "11:\tlearn: 0.1664569\ttotal: 923ms\tremaining: 6.77s\n",
      "12:\tlearn: 0.1519037\ttotal: 1.02s\tremaining: 6.83s\n",
      "13:\tlearn: 0.1392777\ttotal: 1.09s\tremaining: 6.67s\n",
      "14:\tlearn: 0.1282828\ttotal: 1.16s\tremaining: 6.59s\n",
      "15:\tlearn: 0.1186869\ttotal: 1.25s\tremaining: 6.55s\n",
      "16:\tlearn: 0.1102888\ttotal: 1.31s\tremaining: 6.42s\n",
      "17:\tlearn: 0.1029188\ttotal: 1.39s\tremaining: 6.32s\n",
      "18:\tlearn: 0.0964337\ttotal: 1.46s\tremaining: 6.24s\n",
      "19:\tlearn: 0.0907121\ttotal: 1.54s\tremaining: 6.15s\n",
      "20:\tlearn: 0.0856512\ttotal: 1.62s\tremaining: 6.08s\n",
      "21:\tlearn: 0.0811638\ttotal: 1.71s\tremaining: 6.06s\n",
      "22:\tlearn: 0.0771752\ttotal: 1.8s\tremaining: 6.04s\n",
      "23:\tlearn: 0.0736218\ttotal: 1.89s\tremaining: 6s\n",
      "24:\tlearn: 0.0704492\ttotal: 1.99s\tremaining: 5.98s\n",
      "25:\tlearn: 0.0676327\ttotal: 2.07s\tremaining: 5.89s\n",
      "26:\tlearn: 0.0649754\ttotal: 2.14s\tremaining: 5.79s\n",
      "27:\tlearn: 0.0627083\ttotal: 2.22s\tremaining: 5.71s\n",
      "28:\tlearn: 0.0606733\ttotal: 2.29s\tremaining: 5.62s\n",
      "29:\tlearn: 0.0588327\ttotal: 2.37s\tremaining: 5.53s\n",
      "30:\tlearn: 0.0570602\ttotal: 2.44s\tremaining: 5.43s\n",
      "31:\tlearn: 0.0555584\ttotal: 2.52s\tremaining: 5.35s\n",
      "32:\tlearn: 0.0541792\ttotal: 2.59s\tremaining: 5.26s\n",
      "33:\tlearn: 0.0521607\ttotal: 2.67s\tremaining: 5.18s\n",
      "34:\tlearn: 0.0510925\ttotal: 2.76s\tremaining: 5.13s\n",
      "35:\tlearn: 0.0496623\ttotal: 2.87s\tremaining: 5.1s\n",
      "36:\tlearn: 0.0487986\ttotal: 2.96s\tremaining: 5.05s\n",
      "37:\tlearn: 0.0480100\ttotal: 3.04s\tremaining: 4.96s\n",
      "38:\tlearn: 0.0468365\ttotal: 3.12s\tremaining: 4.88s\n",
      "39:\tlearn: 0.0457168\ttotal: 3.2s\tremaining: 4.8s\n",
      "40:\tlearn: 0.0447910\ttotal: 3.27s\tremaining: 4.7s\n",
      "41:\tlearn: 0.0440128\ttotal: 3.33s\tremaining: 4.61s\n",
      "42:\tlearn: 0.0435232\ttotal: 3.41s\tremaining: 4.52s\n",
      "43:\tlearn: 0.0427495\ttotal: 3.49s\tremaining: 4.45s\n",
      "44:\tlearn: 0.0423220\ttotal: 3.58s\tremaining: 4.38s\n",
      "45:\tlearn: 0.0419872\ttotal: 3.68s\tremaining: 4.32s\n",
      "46:\tlearn: 0.0413874\ttotal: 3.76s\tremaining: 4.24s\n",
      "47:\tlearn: 0.0407384\ttotal: 3.85s\tremaining: 4.17s\n",
      "48:\tlearn: 0.0403338\ttotal: 3.94s\tremaining: 4.11s\n",
      "49:\tlearn: 0.0401009\ttotal: 4.03s\tremaining: 4.03s\n",
      "50:\tlearn: 0.0398722\ttotal: 4.11s\tremaining: 3.95s\n",
      "51:\tlearn: 0.0396709\ttotal: 4.2s\tremaining: 3.88s\n",
      "52:\tlearn: 0.0392138\ttotal: 4.27s\tremaining: 3.78s\n",
      "53:\tlearn: 0.0390476\ttotal: 4.34s\tremaining: 3.69s\n",
      "54:\tlearn: 0.0388819\ttotal: 4.42s\tremaining: 3.61s\n",
      "55:\tlearn: 0.0386017\ttotal: 4.51s\tremaining: 3.54s\n",
      "56:\tlearn: 0.0382461\ttotal: 4.6s\tremaining: 3.47s\n",
      "57:\tlearn: 0.0379321\ttotal: 4.68s\tremaining: 3.39s\n",
      "58:\tlearn: 0.0376666\ttotal: 4.75s\tremaining: 3.3s\n",
      "59:\tlearn: 0.0374277\ttotal: 4.82s\tremaining: 3.21s\n",
      "60:\tlearn: 0.0371912\ttotal: 4.89s\tremaining: 3.13s\n",
      "61:\tlearn: 0.0369858\ttotal: 4.97s\tremaining: 3.05s\n",
      "62:\tlearn: 0.0369188\ttotal: 5.04s\tremaining: 2.96s\n",
      "63:\tlearn: 0.0367226\ttotal: 5.12s\tremaining: 2.88s\n",
      "64:\tlearn: 0.0366161\ttotal: 5.18s\tremaining: 2.79s\n",
      "65:\tlearn: 0.0364382\ttotal: 5.25s\tremaining: 2.71s\n",
      "66:\tlearn: 0.0363888\ttotal: 5.32s\tremaining: 2.62s\n",
      "67:\tlearn: 0.0362462\ttotal: 5.4s\tremaining: 2.54s\n",
      "68:\tlearn: 0.0360407\ttotal: 5.46s\tremaining: 2.45s\n",
      "69:\tlearn: 0.0359142\ttotal: 5.54s\tremaining: 2.37s\n",
      "70:\tlearn: 0.0358744\ttotal: 5.62s\tremaining: 2.29s\n",
      "71:\tlearn: 0.0357180\ttotal: 5.7s\tremaining: 2.22s\n",
      "72:\tlearn: 0.0355999\ttotal: 5.79s\tremaining: 2.14s\n",
      "73:\tlearn: 0.0354779\ttotal: 5.87s\tremaining: 2.06s\n",
      "74:\tlearn: 0.0353713\ttotal: 5.96s\tremaining: 1.99s\n",
      "75:\tlearn: 0.0353110\ttotal: 6.04s\tremaining: 1.91s\n",
      "76:\tlearn: 0.0352858\ttotal: 6.12s\tremaining: 1.83s\n",
      "77:\tlearn: 0.0352607\ttotal: 6.2s\tremaining: 1.75s\n",
      "78:\tlearn: 0.0352341\ttotal: 6.29s\tremaining: 1.67s\n",
      "79:\tlearn: 0.0352170\ttotal: 6.36s\tremaining: 1.59s\n",
      "80:\tlearn: 0.0351696\ttotal: 6.45s\tremaining: 1.51s\n",
      "81:\tlearn: 0.0351288\ttotal: 6.54s\tremaining: 1.43s\n",
      "82:\tlearn: 0.0350486\ttotal: 6.61s\tremaining: 1.35s\n",
      "83:\tlearn: 0.0349886\ttotal: 6.68s\tremaining: 1.27s\n",
      "84:\tlearn: 0.0349728\ttotal: 6.75s\tremaining: 1.19s\n",
      "85:\tlearn: 0.0349330\ttotal: 6.83s\tremaining: 1.11s\n",
      "86:\tlearn: 0.0349140\ttotal: 6.91s\tremaining: 1.03s\n",
      "87:\tlearn: 0.0348407\ttotal: 7.01s\tremaining: 956ms\n",
      "88:\tlearn: 0.0347688\ttotal: 7.09s\tremaining: 876ms\n",
      "89:\tlearn: 0.0347039\ttotal: 7.17s\tremaining: 796ms\n",
      "90:\tlearn: 0.0346129\ttotal: 7.25s\tremaining: 718ms\n",
      "91:\tlearn: 0.0345487\ttotal: 7.33s\tremaining: 637ms\n",
      "92:\tlearn: 0.0345003\ttotal: 7.39s\tremaining: 557ms\n",
      "93:\tlearn: 0.0344459\ttotal: 7.47s\tremaining: 477ms\n",
      "94:\tlearn: 0.0343992\ttotal: 7.54s\tremaining: 397ms\n",
      "95:\tlearn: 0.0343841\ttotal: 7.61s\tremaining: 317ms\n",
      "96:\tlearn: 0.0343467\ttotal: 7.7s\tremaining: 238ms\n",
      "97:\tlearn: 0.0343266\ttotal: 7.78s\tremaining: 159ms\n",
      "98:\tlearn: 0.0343086\ttotal: 7.86s\tremaining: 79.4ms\n",
      "99:\tlearn: 0.0342652\ttotal: 7.95s\tremaining: 0us\n",
      "CPU times: user 25.9 s, sys: 1.7 s, total: 27.6 s\n",
      "Wall time: 9.55 s\n"
     ]
    },
    {
     "data": {
      "text/plain": [
       "(0.9463204432424233, 0.9183805230239315)"
      ]
     },
     "execution_count": 240,
     "metadata": {},
     "output_type": "execute_result"
    }
   ],
   "source": [
    "%%time\n",
    "get_auc_lr_valid_xgb(X_boost, y, cat_features=cat_features)"
   ]
  }
 ],
 "metadata": {
  "kernelspec": {
   "display_name": "Python 3",
   "language": "python",
   "name": "python3"
  },
  "language_info": {
   "codemirror_mode": {
    "name": "ipython",
    "version": 3
   },
   "file_extension": ".py",
   "mimetype": "text/x-python",
   "name": "python",
   "nbconvert_exporter": "python",
   "pygments_lexer": "ipython3",
   "version": "3.6.3"
  }
 },
 "nbformat": 4,
 "nbformat_minor": 2
}
